{
 "cells": [
  {
   "cell_type": "markdown",
   "metadata": {
    "id": "Vz7vGmWfQR6r"
   },
   "source": [
    "# COREFL: Corpus of English as a Foreign Language"
   ]
  },
  {
   "cell_type": "markdown",
   "metadata": {
    "id": "_BHk03PQQaoh"
   },
   "source": [
    "http://corefl.learnercorpora.com/user_guide/corpus_design"
   ]
  },
  {
   "cell_type": "markdown",
   "metadata": {
    "id": "f-iXfJAYNJBH"
   },
   "source": [
    "## Set up"
   ]
  },
  {
   "cell_type": "markdown",
   "metadata": {},
   "source": [
    "## Requirements"
   ]
  },
  {
   "cell_type": "markdown",
   "metadata": {},
   "source": [
    "### Install"
   ]
  },
  {
   "cell_type": "code",
   "execution_count": 4,
   "metadata": {},
   "outputs": [
    {
     "name": "stdout",
     "output_type": "stream",
     "text": [
      "Requirement already satisfied: textstat in /home/codespace/.local/lib/python3.8/site-packages (0.7.3)\n",
      "Requirement already satisfied: pyphen in /home/codespace/.local/lib/python3.8/site-packages (from textstat) (0.14.0)\n",
      "Requirement already satisfied: pandas in /home/codespace/.local/lib/python3.8/site-packages (2.0.3)\n",
      "Requirement already satisfied: tzdata>=2022.1 in /home/codespace/.local/lib/python3.8/site-packages (from pandas) (2023.3)\n",
      "Requirement already satisfied: numpy>=1.20.3; python_version < \"3.10\" in /home/codespace/.local/lib/python3.8/site-packages (from pandas) (1.24.4)\n",
      "Requirement already satisfied: pytz>=2020.1 in /home/codespace/.local/lib/python3.8/site-packages (from pandas) (2023.3.post1)\n",
      "Requirement already satisfied: python-dateutil>=2.8.2 in /home/codespace/.local/lib/python3.8/site-packages (from pandas) (2.8.2)\n",
      "Requirement already satisfied: six>=1.5 in /usr/lib/python3/dist-packages (from python-dateutil>=2.8.2->pandas) (1.14.0)\n",
      "Requirement already satisfied: seaborn in /home/codespace/.local/lib/python3.8/site-packages (0.13.0)\n",
      "Requirement already satisfied: matplotlib!=3.6.1,>=3.3 in /home/codespace/.local/lib/python3.8/site-packages (from seaborn) (3.7.3)\n",
      "Requirement already satisfied: numpy!=1.24.0,>=1.20 in /home/codespace/.local/lib/python3.8/site-packages (from seaborn) (1.24.4)\n",
      "Requirement already satisfied: pandas>=1.2 in /home/codespace/.local/lib/python3.8/site-packages (from seaborn) (2.0.3)\n",
      "Requirement already satisfied: fonttools>=4.22.0 in /home/codespace/.local/lib/python3.8/site-packages (from matplotlib!=3.6.1,>=3.3->seaborn) (4.44.0)\n",
      "Requirement already satisfied: contourpy>=1.0.1 in /home/codespace/.local/lib/python3.8/site-packages (from matplotlib!=3.6.1,>=3.3->seaborn) (1.1.1)\n",
      "Requirement already satisfied: cycler>=0.10 in /home/codespace/.local/lib/python3.8/site-packages (from matplotlib!=3.6.1,>=3.3->seaborn) (0.12.1)\n",
      "Requirement already satisfied: kiwisolver>=1.0.1 in /home/codespace/.local/lib/python3.8/site-packages (from matplotlib!=3.6.1,>=3.3->seaborn) (1.4.5)\n",
      "Requirement already satisfied: pyparsing>=2.3.1 in /home/codespace/.local/lib/python3.8/site-packages (from matplotlib!=3.6.1,>=3.3->seaborn) (3.1.1)\n",
      "Requirement already satisfied: pillow>=6.2.0 in /home/codespace/.local/lib/python3.8/site-packages (from matplotlib!=3.6.1,>=3.3->seaborn) (10.1.0)\n",
      "Requirement already satisfied: packaging>=20.0 in /home/codespace/.local/lib/python3.8/site-packages (from matplotlib!=3.6.1,>=3.3->seaborn) (23.2)\n",
      "Requirement already satisfied: importlib-resources>=3.2.0; python_version < \"3.10\" in /home/codespace/.local/lib/python3.8/site-packages (from matplotlib!=3.6.1,>=3.3->seaborn) (6.1.1)\n",
      "Requirement already satisfied: python-dateutil>=2.7 in /home/codespace/.local/lib/python3.8/site-packages (from matplotlib!=3.6.1,>=3.3->seaborn) (2.8.2)\n",
      "Requirement already satisfied: pytz>=2020.1 in /home/codespace/.local/lib/python3.8/site-packages (from pandas>=1.2->seaborn) (2023.3.post1)\n",
      "Requirement already satisfied: tzdata>=2022.1 in /home/codespace/.local/lib/python3.8/site-packages (from pandas>=1.2->seaborn) (2023.3)\n",
      "Requirement already satisfied: zipp>=3.1.0; python_version < \"3.10\" in /home/codespace/.local/lib/python3.8/site-packages (from importlib-resources>=3.2.0; python_version < \"3.10\"->matplotlib!=3.6.1,>=3.3->seaborn) (3.17.0)\n",
      "Requirement already satisfied: six>=1.5 in /usr/lib/python3/dist-packages (from python-dateutil>=2.7->matplotlib!=3.6.1,>=3.3->seaborn) (1.14.0)\n",
      "Requirement already satisfied: matplotlib in /home/codespace/.local/lib/python3.8/site-packages (3.7.3)\n",
      "Requirement already satisfied: packaging>=20.0 in /home/codespace/.local/lib/python3.8/site-packages (from matplotlib) (23.2)\n",
      "Requirement already satisfied: pyparsing>=2.3.1 in /home/codespace/.local/lib/python3.8/site-packages (from matplotlib) (3.1.1)\n",
      "Requirement already satisfied: python-dateutil>=2.7 in /home/codespace/.local/lib/python3.8/site-packages (from matplotlib) (2.8.2)\n",
      "Requirement already satisfied: pillow>=6.2.0 in /home/codespace/.local/lib/python3.8/site-packages (from matplotlib) (10.1.0)\n",
      "Requirement already satisfied: kiwisolver>=1.0.1 in /home/codespace/.local/lib/python3.8/site-packages (from matplotlib) (1.4.5)\n",
      "Requirement already satisfied: fonttools>=4.22.0 in /home/codespace/.local/lib/python3.8/site-packages (from matplotlib) (4.44.0)\n",
      "Requirement already satisfied: cycler>=0.10 in /home/codespace/.local/lib/python3.8/site-packages (from matplotlib) (0.12.1)\n",
      "Requirement already satisfied: importlib-resources>=3.2.0; python_version < \"3.10\" in /home/codespace/.local/lib/python3.8/site-packages (from matplotlib) (6.1.1)\n",
      "Requirement already satisfied: numpy<2,>=1.20 in /home/codespace/.local/lib/python3.8/site-packages (from matplotlib) (1.24.4)\n",
      "Requirement already satisfied: contourpy>=1.0.1 in /home/codespace/.local/lib/python3.8/site-packages (from matplotlib) (1.1.1)\n",
      "Requirement already satisfied: six>=1.5 in /usr/lib/python3/dist-packages (from python-dateutil>=2.7->matplotlib) (1.14.0)\n",
      "Requirement already satisfied: zipp>=3.1.0; python_version < \"3.10\" in /home/codespace/.local/lib/python3.8/site-packages (from importlib-resources>=3.2.0; python_version < \"3.10\"->matplotlib) (3.17.0)\n",
      "Collecting nltk\n",
      "  Downloading nltk-3.8.1-py3-none-any.whl (1.5 MB)\n",
      "\u001b[K     |████████████████████████████████| 1.5 MB 13.8 MB/s eta 0:00:01\n",
      "\u001b[?25hCollecting joblib\n",
      "  Downloading joblib-1.3.2-py3-none-any.whl (302 kB)\n",
      "\u001b[K     |████████████████████████████████| 302 kB 72.8 MB/s eta 0:00:01\n",
      "\u001b[?25hCollecting click\n",
      "  Downloading click-8.1.7-py3-none-any.whl (97 kB)\n",
      "\u001b[K     |████████████████████████████████| 97 kB 1.8 MB/s  eta 0:00:01\n",
      "\u001b[?25hCollecting tqdm\n",
      "  Downloading tqdm-4.66.1-py3-none-any.whl (78 kB)\n",
      "\u001b[K     |████████████████████████████████| 78 kB 1.3 MB/s  eta 0:00:01\n",
      "\u001b[?25hCollecting regex>=2021.8.3\n",
      "  Downloading regex-2023.10.3-cp38-cp38-manylinux_2_17_x86_64.manylinux2014_x86_64.whl (776 kB)\n",
      "\u001b[K     |████████████████████████████████| 776 kB 26.6 MB/s eta 0:00:01\n",
      "\u001b[?25hInstalling collected packages: joblib, click, tqdm, regex, nltk\n",
      "Successfully installed click-8.1.7 joblib-1.3.2 nltk-3.8.1 regex-2023.10.3 tqdm-4.66.1\n"
     ]
    }
   ],
   "source": [
    "!pip install textstat\n",
    "!pip install pandas\n",
    "!pip install seaborn\n",
    "!pip install matplotlib\n",
    "!pip install nltk"
   ]
  },
  {
   "cell_type": "markdown",
   "metadata": {},
   "source": [
    "### Import"
   ]
  },
  {
   "cell_type": "code",
   "execution_count": 5,
   "metadata": {},
   "outputs": [],
   "source": [
    "import pandas as pd\n",
    "import matplotlib.pyplot as plt\n",
    "import seaborn as sns\n",
    "import nltk"
   ]
  },
  {
   "cell_type": "markdown",
   "metadata": {},
   "source": [
    "### Import Data"
   ]
  },
  {
   "cell_type": "code",
   "execution_count": 6,
   "metadata": {
    "colab": {
     "base_uri": "https://localhost:8080/",
     "height": 408
    },
    "id": "wX2sLCuP7n6_",
    "outputId": "724dbdcf-a527-49d6-9ac9-187d77d3165f"
   },
   "outputs": [
    {
     "ename": "FileNotFoundError",
     "evalue": "[Errno 2] No such file or directory: 'texts.csv'",
     "output_type": "error",
     "traceback": [
      "\u001b[0;31m---------------------------------------------------------------------------\u001b[0m",
      "\u001b[0;31mFileNotFoundError\u001b[0m                         Traceback (most recent call last)",
      "\u001b[1;32m/analysis.ipynb Cell 10\u001b[0m line \u001b[0;36m1\n\u001b[0;32m----> <a href='vscode-notebook-cell:/analysis.ipynb#X10sZmlsZQ%3D%3D?line=0'>1</a>\u001b[0m lc \u001b[39m=\u001b[39m pd\u001b[39m.\u001b[39;49mread_csv(\u001b[39m\"\u001b[39;49m\u001b[39mtexts.csv\u001b[39;49m\u001b[39m\"\u001b[39;49m, delimiter\u001b[39m=\u001b[39;49m\u001b[39m'\u001b[39;49m\u001b[39m\t\u001b[39;49m\u001b[39m'\u001b[39;49m)\n\u001b[1;32m      <a href='vscode-notebook-cell:/analysis.ipynb#X10sZmlsZQ%3D%3D?line=2'>3</a>\u001b[0m lc\u001b[39m.\u001b[39mhead(\u001b[39m2\u001b[39m)\n",
      "File \u001b[0;32m~/.local/lib/python3.8/site-packages/pandas/io/parsers/readers.py:912\u001b[0m, in \u001b[0;36mread_csv\u001b[0;34m(filepath_or_buffer, sep, delimiter, header, names, index_col, usecols, dtype, engine, converters, true_values, false_values, skipinitialspace, skiprows, skipfooter, nrows, na_values, keep_default_na, na_filter, verbose, skip_blank_lines, parse_dates, infer_datetime_format, keep_date_col, date_parser, date_format, dayfirst, cache_dates, iterator, chunksize, compression, thousands, decimal, lineterminator, quotechar, quoting, doublequote, escapechar, comment, encoding, encoding_errors, dialect, on_bad_lines, delim_whitespace, low_memory, memory_map, float_precision, storage_options, dtype_backend)\u001b[0m\n\u001b[1;32m    899\u001b[0m kwds_defaults \u001b[39m=\u001b[39m _refine_defaults_read(\n\u001b[1;32m    900\u001b[0m     dialect,\n\u001b[1;32m    901\u001b[0m     delimiter,\n\u001b[0;32m   (...)\u001b[0m\n\u001b[1;32m    908\u001b[0m     dtype_backend\u001b[39m=\u001b[39mdtype_backend,\n\u001b[1;32m    909\u001b[0m )\n\u001b[1;32m    910\u001b[0m kwds\u001b[39m.\u001b[39mupdate(kwds_defaults)\n\u001b[0;32m--> 912\u001b[0m \u001b[39mreturn\u001b[39;00m _read(filepath_or_buffer, kwds)\n",
      "File \u001b[0;32m~/.local/lib/python3.8/site-packages/pandas/io/parsers/readers.py:577\u001b[0m, in \u001b[0;36m_read\u001b[0;34m(filepath_or_buffer, kwds)\u001b[0m\n\u001b[1;32m    574\u001b[0m _validate_names(kwds\u001b[39m.\u001b[39mget(\u001b[39m\"\u001b[39m\u001b[39mnames\u001b[39m\u001b[39m\"\u001b[39m, \u001b[39mNone\u001b[39;00m))\n\u001b[1;32m    576\u001b[0m \u001b[39m# Create the parser.\u001b[39;00m\n\u001b[0;32m--> 577\u001b[0m parser \u001b[39m=\u001b[39m TextFileReader(filepath_or_buffer, \u001b[39m*\u001b[39;49m\u001b[39m*\u001b[39;49mkwds)\n\u001b[1;32m    579\u001b[0m \u001b[39mif\u001b[39;00m chunksize \u001b[39mor\u001b[39;00m iterator:\n\u001b[1;32m    580\u001b[0m     \u001b[39mreturn\u001b[39;00m parser\n",
      "File \u001b[0;32m~/.local/lib/python3.8/site-packages/pandas/io/parsers/readers.py:1407\u001b[0m, in \u001b[0;36mTextFileReader.__init__\u001b[0;34m(self, f, engine, **kwds)\u001b[0m\n\u001b[1;32m   1404\u001b[0m     \u001b[39mself\u001b[39m\u001b[39m.\u001b[39moptions[\u001b[39m\"\u001b[39m\u001b[39mhas_index_names\u001b[39m\u001b[39m\"\u001b[39m] \u001b[39m=\u001b[39m kwds[\u001b[39m\"\u001b[39m\u001b[39mhas_index_names\u001b[39m\u001b[39m\"\u001b[39m]\n\u001b[1;32m   1406\u001b[0m \u001b[39mself\u001b[39m\u001b[39m.\u001b[39mhandles: IOHandles \u001b[39m|\u001b[39m \u001b[39mNone\u001b[39;00m \u001b[39m=\u001b[39m \u001b[39mNone\u001b[39;00m\n\u001b[0;32m-> 1407\u001b[0m \u001b[39mself\u001b[39m\u001b[39m.\u001b[39m_engine \u001b[39m=\u001b[39m \u001b[39mself\u001b[39;49m\u001b[39m.\u001b[39;49m_make_engine(f, \u001b[39mself\u001b[39;49m\u001b[39m.\u001b[39;49mengine)\n",
      "File \u001b[0;32m~/.local/lib/python3.8/site-packages/pandas/io/parsers/readers.py:1661\u001b[0m, in \u001b[0;36mTextFileReader._make_engine\u001b[0;34m(self, f, engine)\u001b[0m\n\u001b[1;32m   1659\u001b[0m     \u001b[39mif\u001b[39;00m \u001b[39m\"\u001b[39m\u001b[39mb\u001b[39m\u001b[39m\"\u001b[39m \u001b[39mnot\u001b[39;00m \u001b[39min\u001b[39;00m mode:\n\u001b[1;32m   1660\u001b[0m         mode \u001b[39m+\u001b[39m\u001b[39m=\u001b[39m \u001b[39m\"\u001b[39m\u001b[39mb\u001b[39m\u001b[39m\"\u001b[39m\n\u001b[0;32m-> 1661\u001b[0m \u001b[39mself\u001b[39m\u001b[39m.\u001b[39mhandles \u001b[39m=\u001b[39m get_handle(\n\u001b[1;32m   1662\u001b[0m     f,\n\u001b[1;32m   1663\u001b[0m     mode,\n\u001b[1;32m   1664\u001b[0m     encoding\u001b[39m=\u001b[39;49m\u001b[39mself\u001b[39;49m\u001b[39m.\u001b[39;49moptions\u001b[39m.\u001b[39;49mget(\u001b[39m\"\u001b[39;49m\u001b[39mencoding\u001b[39;49m\u001b[39m\"\u001b[39;49m, \u001b[39mNone\u001b[39;49;00m),\n\u001b[1;32m   1665\u001b[0m     compression\u001b[39m=\u001b[39;49m\u001b[39mself\u001b[39;49m\u001b[39m.\u001b[39;49moptions\u001b[39m.\u001b[39;49mget(\u001b[39m\"\u001b[39;49m\u001b[39mcompression\u001b[39;49m\u001b[39m\"\u001b[39;49m, \u001b[39mNone\u001b[39;49;00m),\n\u001b[1;32m   1666\u001b[0m     memory_map\u001b[39m=\u001b[39;49m\u001b[39mself\u001b[39;49m\u001b[39m.\u001b[39;49moptions\u001b[39m.\u001b[39;49mget(\u001b[39m\"\u001b[39;49m\u001b[39mmemory_map\u001b[39;49m\u001b[39m\"\u001b[39;49m, \u001b[39mFalse\u001b[39;49;00m),\n\u001b[1;32m   1667\u001b[0m     is_text\u001b[39m=\u001b[39;49mis_text,\n\u001b[1;32m   1668\u001b[0m     errors\u001b[39m=\u001b[39;49m\u001b[39mself\u001b[39;49m\u001b[39m.\u001b[39;49moptions\u001b[39m.\u001b[39;49mget(\u001b[39m\"\u001b[39;49m\u001b[39mencoding_errors\u001b[39;49m\u001b[39m\"\u001b[39;49m, \u001b[39m\"\u001b[39;49m\u001b[39mstrict\u001b[39;49m\u001b[39m\"\u001b[39;49m),\n\u001b[1;32m   1669\u001b[0m     storage_options\u001b[39m=\u001b[39;49m\u001b[39mself\u001b[39;49m\u001b[39m.\u001b[39;49moptions\u001b[39m.\u001b[39;49mget(\u001b[39m\"\u001b[39;49m\u001b[39mstorage_options\u001b[39;49m\u001b[39m\"\u001b[39;49m, \u001b[39mNone\u001b[39;49;00m),\n\u001b[1;32m   1670\u001b[0m )\n\u001b[1;32m   1671\u001b[0m \u001b[39massert\u001b[39;00m \u001b[39mself\u001b[39m\u001b[39m.\u001b[39mhandles \u001b[39mis\u001b[39;00m \u001b[39mnot\u001b[39;00m \u001b[39mNone\u001b[39;00m\n\u001b[1;32m   1672\u001b[0m f \u001b[39m=\u001b[39m \u001b[39mself\u001b[39m\u001b[39m.\u001b[39mhandles\u001b[39m.\u001b[39mhandle\n",
      "File \u001b[0;32m~/.local/lib/python3.8/site-packages/pandas/io/common.py:859\u001b[0m, in \u001b[0;36mget_handle\u001b[0;34m(path_or_buf, mode, encoding, compression, memory_map, is_text, errors, storage_options)\u001b[0m\n\u001b[1;32m    854\u001b[0m \u001b[39melif\u001b[39;00m \u001b[39misinstance\u001b[39m(handle, \u001b[39mstr\u001b[39m):\n\u001b[1;32m    855\u001b[0m     \u001b[39m# Check whether the filename is to be opened in binary mode.\u001b[39;00m\n\u001b[1;32m    856\u001b[0m     \u001b[39m# Binary mode does not support 'encoding' and 'newline'.\u001b[39;00m\n\u001b[1;32m    857\u001b[0m     \u001b[39mif\u001b[39;00m ioargs\u001b[39m.\u001b[39mencoding \u001b[39mand\u001b[39;00m \u001b[39m\"\u001b[39m\u001b[39mb\u001b[39m\u001b[39m\"\u001b[39m \u001b[39mnot\u001b[39;00m \u001b[39min\u001b[39;00m ioargs\u001b[39m.\u001b[39mmode:\n\u001b[1;32m    858\u001b[0m         \u001b[39m# Encoding\u001b[39;00m\n\u001b[0;32m--> 859\u001b[0m         handle \u001b[39m=\u001b[39m \u001b[39mopen\u001b[39;49m(\n\u001b[1;32m    860\u001b[0m             handle,\n\u001b[1;32m    861\u001b[0m             ioargs\u001b[39m.\u001b[39;49mmode,\n\u001b[1;32m    862\u001b[0m             encoding\u001b[39m=\u001b[39;49mioargs\u001b[39m.\u001b[39;49mencoding,\n\u001b[1;32m    863\u001b[0m             errors\u001b[39m=\u001b[39;49merrors,\n\u001b[1;32m    864\u001b[0m             newline\u001b[39m=\u001b[39;49m\u001b[39m\"\u001b[39;49m\u001b[39m\"\u001b[39;49m,\n\u001b[1;32m    865\u001b[0m         )\n\u001b[1;32m    866\u001b[0m     \u001b[39melse\u001b[39;00m:\n\u001b[1;32m    867\u001b[0m         \u001b[39m# Binary mode\u001b[39;00m\n\u001b[1;32m    868\u001b[0m         handle \u001b[39m=\u001b[39m \u001b[39mopen\u001b[39m(handle, ioargs\u001b[39m.\u001b[39mmode)\n",
      "\u001b[0;31mFileNotFoundError\u001b[0m: [Errno 2] No such file or directory: 'texts.csv'"
     ]
    }
   ],
   "source": [
    "lc = pd.read_csv(\"texts.csv\", delimiter='\t')\n",
    "\n",
    "lc.head(2)"
   ]
  },
  {
   "cell_type": "markdown",
   "metadata": {
    "id": "y-4VcsV_NPnI"
   },
   "source": [
    "## EDA"
   ]
  },
  {
   "cell_type": "markdown",
   "metadata": {},
   "source": [
    "### Basic properties of data"
   ]
  },
  {
   "cell_type": "code",
   "execution_count": 34,
   "metadata": {
    "id": "UHIOWkgqDiuS"
   },
   "outputs": [
    {
     "data": {
      "text/plain": [
       "(1810, 41)"
      ]
     },
     "execution_count": 34,
     "metadata": {},
     "output_type": "execute_result"
    }
   ],
   "source": [
    "lc.shape"
   ]
  },
  {
   "cell_type": "code",
   "execution_count": 35,
   "metadata": {
    "id": "QAmQer3e9TIx"
   },
   "outputs": [
    {
     "data": {
      "text/html": [
       "<div>\n",
       "<style scoped>\n",
       "    .dataframe tbody tr th:only-of-type {\n",
       "        vertical-align: middle;\n",
       "    }\n",
       "\n",
       "    .dataframe tbody tr th {\n",
       "        vertical-align: top;\n",
       "    }\n",
       "\n",
       "    .dataframe thead th {\n",
       "        text-align: right;\n",
       "    }\n",
       "</style>\n",
       "<table border=\"1\" class=\"dataframe\">\n",
       "  <thead>\n",
       "    <tr style=\"text-align: right;\">\n",
       "      <th></th>\n",
       "      <th>Year data collection</th>\n",
       "      <th>Placement test score (%)</th>\n",
       "      <th>Age</th>\n",
       "      <th>Age of exposure to English</th>\n",
       "      <th>Years studying English</th>\n",
       "      <th>Stay abroad (months)</th>\n",
       "      <th>Task number</th>\n",
       "      <th>Minutes taken to complete the task</th>\n",
       "      <th>Original text</th>\n",
       "    </tr>\n",
       "  </thead>\n",
       "  <tbody>\n",
       "    <tr>\n",
       "      <th>count</th>\n",
       "      <td>1810.000000</td>\n",
       "      <td>1810.000000</td>\n",
       "      <td>1809.000000</td>\n",
       "      <td>1809.000000</td>\n",
       "      <td>1791.000000</td>\n",
       "      <td>1784.000000</td>\n",
       "      <td>1810.000000</td>\n",
       "      <td>993.00000</td>\n",
       "      <td>0.0</td>\n",
       "    </tr>\n",
       "    <tr>\n",
       "      <th>mean</th>\n",
       "      <td>2016.444751</td>\n",
       "      <td>62.527735</td>\n",
       "      <td>20.638474</td>\n",
       "      <td>7.505804</td>\n",
       "      <td>11.955109</td>\n",
       "      <td>3.334557</td>\n",
       "      <td>12.211050</td>\n",
       "      <td>44.47432</td>\n",
       "      <td>NaN</td>\n",
       "    </tr>\n",
       "    <tr>\n",
       "      <th>std</th>\n",
       "      <td>2.838277</td>\n",
       "      <td>24.132642</td>\n",
       "      <td>6.725807</td>\n",
       "      <td>4.168876</td>\n",
       "      <td>4.392245</td>\n",
       "      <td>11.027668</td>\n",
       "      <td>3.520247</td>\n",
       "      <td>156.07326</td>\n",
       "      <td>NaN</td>\n",
       "    </tr>\n",
       "    <tr>\n",
       "      <th>min</th>\n",
       "      <td>2012.000000</td>\n",
       "      <td>0.000000</td>\n",
       "      <td>12.000000</td>\n",
       "      <td>0.000000</td>\n",
       "      <td>0.000000</td>\n",
       "      <td>0.000000</td>\n",
       "      <td>2.000000</td>\n",
       "      <td>1.00000</td>\n",
       "      <td>NaN</td>\n",
       "    </tr>\n",
       "    <tr>\n",
       "      <th>25%</th>\n",
       "      <td>2013.000000</td>\n",
       "      <td>42.700000</td>\n",
       "      <td>17.000000</td>\n",
       "      <td>6.000000</td>\n",
       "      <td>9.000000</td>\n",
       "      <td>0.000000</td>\n",
       "      <td>13.000000</td>\n",
       "      <td>10.00000</td>\n",
       "      <td>NaN</td>\n",
       "    </tr>\n",
       "    <tr>\n",
       "      <th>50%</th>\n",
       "      <td>2018.000000</td>\n",
       "      <td>68.300000</td>\n",
       "      <td>20.000000</td>\n",
       "      <td>7.000000</td>\n",
       "      <td>12.000000</td>\n",
       "      <td>0.000000</td>\n",
       "      <td>13.000000</td>\n",
       "      <td>15.00000</td>\n",
       "      <td>NaN</td>\n",
       "    </tr>\n",
       "    <tr>\n",
       "      <th>75%</th>\n",
       "      <td>2019.000000</td>\n",
       "      <td>81.700000</td>\n",
       "      <td>22.000000</td>\n",
       "      <td>9.000000</td>\n",
       "      <td>14.000000</td>\n",
       "      <td>2.000000</td>\n",
       "      <td>14.000000</td>\n",
       "      <td>22.00000</td>\n",
       "      <td>NaN</td>\n",
       "    </tr>\n",
       "    <tr>\n",
       "      <th>max</th>\n",
       "      <td>2021.000000</td>\n",
       "      <td>100.000000</td>\n",
       "      <td>62.000000</td>\n",
       "      <td>50.000000</td>\n",
       "      <td>49.000000</td>\n",
       "      <td>228.000000</td>\n",
       "      <td>14.000000</td>\n",
       "      <td>1800.00000</td>\n",
       "      <td>NaN</td>\n",
       "    </tr>\n",
       "  </tbody>\n",
       "</table>\n",
       "</div>"
      ],
      "text/plain": [
       "       Year data collection  Placement test score (%)          Age  \\\n",
       "count           1810.000000               1810.000000  1809.000000   \n",
       "mean            2016.444751                 62.527735    20.638474   \n",
       "std                2.838277                 24.132642     6.725807   \n",
       "min             2012.000000                  0.000000    12.000000   \n",
       "25%             2013.000000                 42.700000    17.000000   \n",
       "50%             2018.000000                 68.300000    20.000000   \n",
       "75%             2019.000000                 81.700000    22.000000   \n",
       "max             2021.000000                100.000000    62.000000   \n",
       "\n",
       "       Age of exposure to English  Years studying English  \\\n",
       "count                 1809.000000             1791.000000   \n",
       "mean                     7.505804               11.955109   \n",
       "std                      4.168876                4.392245   \n",
       "min                      0.000000                0.000000   \n",
       "25%                      6.000000                9.000000   \n",
       "50%                      7.000000               12.000000   \n",
       "75%                      9.000000               14.000000   \n",
       "max                     50.000000               49.000000   \n",
       "\n",
       "       Stay abroad (months)  Task number  Minutes taken to complete the task  \\\n",
       "count           1784.000000  1810.000000                           993.00000   \n",
       "mean               3.334557    12.211050                            44.47432   \n",
       "std               11.027668     3.520247                           156.07326   \n",
       "min                0.000000     2.000000                             1.00000   \n",
       "25%                0.000000    13.000000                            10.00000   \n",
       "50%                0.000000    13.000000                            15.00000   \n",
       "75%                2.000000    14.000000                            22.00000   \n",
       "max              228.000000    14.000000                          1800.00000   \n",
       "\n",
       "       Original text  \n",
       "count            0.0  \n",
       "mean             NaN  \n",
       "std              NaN  \n",
       "min              NaN  \n",
       "25%              NaN  \n",
       "50%              NaN  \n",
       "75%              NaN  \n",
       "max              NaN  "
      ]
     },
     "execution_count": 35,
     "metadata": {},
     "output_type": "execute_result"
    }
   ],
   "source": [
    "lc.describe()"
   ]
  },
  {
   "cell_type": "code",
   "execution_count": 36,
   "metadata": {
    "id": "y8WldvHiDapB"
   },
   "outputs": [
    {
     "data": {
      "text/plain": [
       "Subcorpus                                                            0\n",
       "Filename                                                             0\n",
       "Year data collection                                                 0\n",
       "Placement test score (raw)                                           5\n",
       "Placement test score (%)                                             0\n",
       "Proficiency                                                          0\n",
       "Sex                                                                  0\n",
       "Age                                                                  1\n",
       "School/University/Institution                                       33\n",
       "Major                                                              531\n",
       "Year at university/school                                          224\n",
       "L1                                                                   0\n",
       "Father's native language                                             0\n",
       "Mother's native language                                             0\n",
       "Languages spoken at home                                             0\n",
       "Age of exposure to English                                           1\n",
       "Years studying English                                              19\n",
       "Stay abroad in English speaking country (>= 1 month)                 0\n",
       "Stay abroad (where)                                               1206\n",
       "Stay abroad (when)                                                1307\n",
       "Stay abroad (months)                                                26\n",
       "Language certificates (type and level)                            1157\n",
       "Proficiency (self-assessment) speaking                               3\n",
       "Proficiency (self-assessment) listening                              6\n",
       "Proficiency (self-assessment) reading                                7\n",
       "Proficiency (self-assessment) writing                                9\n",
       "Proficiency (self-assessment)                                        0\n",
       "Additional foreign language(s)                                     495\n",
       "Proficiency (self-assessment) in additional language speaking      936\n",
       "Proficiency (self-assessment) in additional language listening     939\n",
       "Proficiency (self-assessment) in additional language reading       938\n",
       "Proficiency (self-assessment) in additional language writing       939\n",
       "Medium                                                               0\n",
       "Task number                                                          0\n",
       "Task title                                                           0\n",
       "Writing/audio details                                                0\n",
       "Minutes taken to complete the task                                 817\n",
       "Where the task was done                                            630\n",
       "Resources used                                                    1274\n",
       "Text                                                                 0\n",
       "Original text                                                     1810\n",
       "dtype: int64"
      ]
     },
     "execution_count": 36,
     "metadata": {},
     "output_type": "execute_result"
    }
   ],
   "source": [
    "lc.isna().sum()"
   ]
  },
  {
   "cell_type": "code",
   "execution_count": 37,
   "metadata": {
    "id": "l-94TIgREBUk"
   },
   "outputs": [
    {
     "data": {
      "text/plain": [
       "Subcorpus                                                            1\n",
       "Filename                                                          1807\n",
       "Year data collection                                                 8\n",
       "Placement test score (raw)                                         149\n",
       "Placement test score (%)                                           105\n",
       "Proficiency                                                          6\n",
       "Sex                                                                  3\n",
       "Age                                                                 49\n",
       "School/University/Institution                                       92\n",
       "Major                                                              382\n",
       "Year at university/school                                          258\n",
       "L1                                                                   2\n",
       "Father's native language                                            29\n",
       "Mother's native language                                            32\n",
       "Languages spoken at home                                            34\n",
       "Age of exposure to English                                          32\n",
       "Years studying English                                              50\n",
       "Stay abroad in English speaking country (>= 1 month)                 2\n",
       "Stay abroad (where)                                                 68\n",
       "Stay abroad (when)                                                 153\n",
       "Stay abroad (months)                                                49\n",
       "Language certificates (type and level)                             171\n",
       "Proficiency (self-assessment) speaking                               6\n",
       "Proficiency (self-assessment) listening                              6\n",
       "Proficiency (self-assessment) reading                                6\n",
       "Proficiency (self-assessment) writing                                6\n",
       "Proficiency (self-assessment)                                       21\n",
       "Additional foreign language(s)                                     107\n",
       "Proficiency (self-assessment) in additional language speaking        6\n",
       "Proficiency (self-assessment) in additional language listening       6\n",
       "Proficiency (self-assessment) in additional language reading         6\n",
       "Proficiency (self-assessment) in additional language writing         6\n",
       "Medium                                                               2\n",
       "Task number                                                          5\n",
       "Task title                                                           4\n",
       "Writing/audio details                                                6\n",
       "Minutes taken to complete the task                                  60\n",
       "Where the task was done                                              3\n",
       "Resources used                                                      24\n",
       "Text                                                              1806\n",
       "Original text                                                        0\n",
       "dtype: int64"
      ]
     },
     "execution_count": 37,
     "metadata": {},
     "output_type": "execute_result"
    }
   ],
   "source": [
    "lc.nunique()"
   ]
  },
  {
   "cell_type": "markdown",
   "metadata": {
    "id": "du1kmncELTxI"
   },
   "source": [
    "### Numeric feature distributions"
   ]
  },
  {
   "cell_type": "markdown",
   "metadata": {},
   "source": [
    "Add some text about the observations"
   ]
  },
  {
   "cell_type": "code",
   "execution_count": 38,
   "metadata": {
    "id": "TyuxqYxQLFLR"
   },
   "outputs": [
    {
     "data": {
      "text/plain": [
       "<Axes: >"
      ]
     },
     "execution_count": 38,
     "metadata": {},
     "output_type": "execute_result"
    },
    {
     "data": {
      "image/png": "[encoded data removed]",
      "text/plain": [
       "<Figure size 640x480 with 1 Axes>"
      ]
     },
     "metadata": {},
     "output_type": "display_data"
    }
   ],
   "source": [
    "lc['Year data collection'].value_counts().sort_index().plot.bar()"
   ]
  },
  {
   "cell_type": "code",
   "execution_count": 39,
   "metadata": {
    "id": "oKCwjEfHFfYp"
   },
   "outputs": [
    {
     "data": {
      "image/png": "[encoded data removed]",
      "text/plain": [
       "<Figure size 640x480 with 1 Axes>"
      ]
     },
     "metadata": {},
     "output_type": "display_data"
    }
   ],
   "source": [
    "sns.histplot(lc['Placement test score (%)'], kde=True, bins=20)\n",
    "plt.show()"
   ]
  },
  {
   "cell_type": "code",
   "execution_count": 40,
   "metadata": {
    "id": "OzHOrOfqGK_D"
   },
   "outputs": [
    {
     "data": {
      "image/png": "[encoded data removed]",
      "text/plain": [
       "<Figure size 640x480 with 1 Axes>"
      ]
     },
     "metadata": {},
     "output_type": "display_data"
    }
   ],
   "source": [
    "sns.histplot(lc['Age'], kde=True, bins=20)\n",
    "plt.show()"
   ]
  },
  {
   "cell_type": "code",
   "execution_count": 41,
   "metadata": {
    "id": "I-Y_6n51G84G"
   },
   "outputs": [
    {
     "data": {
      "image/png": "[encoded data removed]",
      "text/plain": [
       "<Figure size 640x480 with 1 Axes>"
      ]
     },
     "metadata": {},
     "output_type": "display_data"
    }
   ],
   "source": [
    "sns.histplot(lc['Age of exposure to English'], kde=True, bins=20)\n",
    "plt.show()"
   ]
  },
  {
   "cell_type": "code",
   "execution_count": 42,
   "metadata": {
    "id": "3zezhRxrHRTm"
   },
   "outputs": [
    {
     "data": {
      "image/png": "[encoded data removed]",
      "text/plain": [
       "<Figure size 640x480 with 1 Axes>"
      ]
     },
     "metadata": {},
     "output_type": "display_data"
    }
   ],
   "source": [
    "sns.histplot(lc['Years studying English'], kde=True, bins=20)\n",
    "plt.show()"
   ]
  },
  {
   "cell_type": "code",
   "execution_count": 43,
   "metadata": {
    "id": "rPQV_MzPJifu"
   },
   "outputs": [
    {
     "data": {
      "image/png": "[encoded data removed]",
      "text/plain": [
       "<Figure size 640x480 with 1 Axes>"
      ]
     },
     "metadata": {},
     "output_type": "display_data"
    }
   ],
   "source": [
    "sns.histplot(lc['Stay abroad (months)'] , kde=True, bins=100)\n",
    "plt.show()"
   ]
  },
  {
   "cell_type": "code",
   "execution_count": 44,
   "metadata": {
    "id": "FGdK3sULHf0y"
   },
   "outputs": [
    {
     "data": {
      "image/png": "[encoded data removed]",
      "text/plain": [
       "<Figure size 640x480 with 1 Axes>"
      ]
     },
     "metadata": {},
     "output_type": "display_data"
    }
   ],
   "source": [
    "sns.histplot(lc[lc['Stay abroad (months)'] != 0]['Stay abroad (months)'] , kde=True, bins=100)\n",
    "plt.show()"
   ]
  },
  {
   "cell_type": "code",
   "execution_count": 45,
   "metadata": {
    "id": "NthQaZ-0HvvG"
   },
   "outputs": [
    {
     "data": {
      "text/plain": [
       "0.00      1246\n",
       "1.00        56\n",
       "1.25         1\n",
       "1.30         2\n",
       "1.50         9\n",
       "2.00        41\n",
       "2.50         1\n",
       "3.00        36\n",
       "3.50         2\n",
       "4.00        21\n",
       "5.00        20\n",
       "6.00        25\n",
       "7.00        17\n",
       "8.00        16\n",
       "8.50         1\n",
       "9.00       100\n",
       "9.50         1\n",
       "10.00       48\n",
       "11.00       23\n",
       "12.00       36\n",
       "13.00       13\n",
       "14.00        2\n",
       "15.00        3\n",
       "16.00        5\n",
       "17.00        3\n",
       "18.00        5\n",
       "19.00        2\n",
       "20.00        1\n",
       "22.00        2\n",
       "23.00        3\n",
       "24.00        3\n",
       "25.00        3\n",
       "26.00        4\n",
       "27.00        1\n",
       "28.00        2\n",
       "30.00        4\n",
       "34.00        2\n",
       "36.00        5\n",
       "44.00        1\n",
       "49.00        1\n",
       "55.00        2\n",
       "57.00        1\n",
       "60.00        2\n",
       "72.00        3\n",
       "96.00        3\n",
       "108.00       2\n",
       "114.00       2\n",
       "120.00       1\n",
       "228.00       1\n",
       "Name: Stay abroad (months), dtype: int64"
      ]
     },
     "execution_count": 45,
     "metadata": {},
     "output_type": "execute_result"
    }
   ],
   "source": [
    "lc['Stay abroad (months)'].value_counts().sort_index()"
   ]
  },
  {
   "cell_type": "code",
   "execution_count": 46,
   "metadata": {
    "id": "gLe-FDWyKFR6"
   },
   "outputs": [
    {
     "data": {
      "image/png": "[encoded data removed]",
      "text/plain": [
       "<Figure size 640x480 with 1 Axes>"
      ]
     },
     "metadata": {},
     "output_type": "display_data"
    }
   ],
   "source": [
    "sns.histplot(lc['Minutes taken to complete the task'] , kde=True, bins=200)\n",
    "plt.show()\n"
   ]
  },
  {
   "cell_type": "code",
   "execution_count": 47,
   "metadata": {
    "id": "ctXO8qVFKQJ9"
   },
   "outputs": [
    {
     "data": {
      "text/plain": [
       "<Axes: >"
      ]
     },
     "execution_count": 47,
     "metadata": {},
     "output_type": "execute_result"
    },
    {
     "data": {
      "image/png": "[encoded data removed]",
      "text/plain": [
       "<Figure size 1500x300 with 1 Axes>"
      ]
     },
     "metadata": {},
     "output_type": "display_data"
    }
   ],
   "source": [
    "lc['Minutes taken to complete the task'].value_counts().sort_index().plot.bar(figsize=(15, 3))"
   ]
  },
  {
   "cell_type": "markdown",
   "metadata": {
    "id": "-9yxNGjYLnj4"
   },
   "source": [
    "### Categorical feature distributions"
   ]
  },
  {
   "cell_type": "markdown",
   "metadata": {},
   "source": [
    "Add some text about the observations"
   ]
  },
  {
   "cell_type": "code",
   "execution_count": 48,
   "metadata": {
    "id": "cjGp4XXyGqfG"
   },
   "outputs": [
    {
     "data": {
      "text/plain": [
       "<Axes: >"
      ]
     },
     "execution_count": 48,
     "metadata": {},
     "output_type": "execute_result"
    },
    {
     "data": {
      "image/png": "[encoded data removed]",
      "text/plain": [
       "<Figure size 640x480 with 1 Axes>"
      ]
     },
     "metadata": {},
     "output_type": "display_data"
    }
   ],
   "source": [
    "lc['Sex'].value_counts().plot.bar()"
   ]
  },
  {
   "cell_type": "code",
   "execution_count": 49,
   "metadata": {
    "id": "5vQ4p5wdJ0WN"
   },
   "outputs": [
    {
     "data": {
      "text/plain": [
       "<Axes: >"
      ]
     },
     "execution_count": 49,
     "metadata": {},
     "output_type": "execute_result"
    },
    {
     "data": {
      "image/png": "[encoded data removed]",
      "text/plain": [
       "<Figure size 640x480 with 1 Axes>"
      ]
     },
     "metadata": {},
     "output_type": "display_data"
    }
   ],
   "source": [
    "lc['Task number'].value_counts().sort_index().plot.bar()"
   ]
  },
  {
   "cell_type": "markdown",
   "metadata": {
    "id": "F29awsg4NdYv"
   },
   "source": [
    "## Feature Augmentation: Text Features"
   ]
  },
  {
   "cell_type": "markdown",
   "metadata": {},
   "source": [
    "Credits to Nikita"
   ]
  },
  {
   "cell_type": "markdown",
   "metadata": {},
   "source": [
    "### Feature selection"
   ]
  },
  {
   "cell_type": "code",
   "execution_count": 50,
   "metadata": {},
   "outputs": [
    {
     "name": "stdout",
     "output_type": "stream",
     "text": [
      "Subcorpus                                                0\n",
      "Placement test score (%)                                 0\n",
      "Proficiency                                              0\n",
      "Age                                                      1\n",
      "L1                                                       0\n",
      "Languages spoken at home                                 0\n",
      "Age of exposure to English                               1\n",
      "Years studying English                                  19\n",
      "Stay abroad in English speaking country (>= 1 month)     0\n",
      "Stay abroad (months)                                    26\n",
      "Proficiency (self-assessment) writing                    9\n",
      "Task number                                              0\n",
      "Task title                                               0\n",
      "Text                                                     0\n",
      "dtype: int64\n"
     ]
    }
   ],
   "source": [
    "dataset_raw = lc\n",
    "dataset_raw = dataset_raw.drop(columns=['Placement test score (raw)','Filename', 'Year data collection', 'Sex', 'School/University/Institution', 'Major', 'Stay abroad (where)', 'Stay abroad (when)', \n",
    "                           'Proficiency (self-assessment) speaking', 'Proficiency (self-assessment) listening', 'Proficiency (self-assessment) reading',\n",
    "                            'Proficiency (self-assessment) in additional language speaking', 'Proficiency (self-assessment) in additional language listening',\n",
    "       'Proficiency (self-assessment) in additional language reading', 'Proficiency (self-assessment) in additional language writing',\n",
    "       'Medium', 'Writing/audio details', 'Minutes taken to complete the task', 'Where the task was done', 'Resources used', 'Original text', 'Additional foreign language(s)',\n",
    "       \"Father's native language\", \"Mother's native language\", 'Proficiency (self-assessment)', 'Proficiency (self-assessment)', 'Year at university/school', 'Language certificates (type and level)'])\n",
    "\n",
    "#Let us check the number of nan values in each column\n",
    "print(dataset_raw.isna().sum())"
   ]
  },
  {
   "cell_type": "markdown",
   "metadata": {},
   "source": [
    "### NaN handling"
   ]
  },
  {
   "cell_type": "code",
   "execution_count": 51,
   "metadata": {},
   "outputs": [
    {
     "name": "stdout",
     "output_type": "stream",
     "text": [
      "done\n"
     ]
    }
   ],
   "source": [
    "from sklearn.impute import KNNImputer\n",
    "from sklearn.preprocessing import OneHotEncoder\n",
    "\n",
    "#Defining columns with missing values\n",
    "columns_with_missing_values = ['Stay abroad (months)', 'Years studying English', 'Age', 'Age of exposure to English']\n",
    "\n",
    "dataset_raw_imputed = dataset_raw.copy()\n",
    "categorical_columns = dataset_raw_imputed[columns_with_missing_values].select_dtypes(include=['object']).columns.tolist()\n",
    "\n",
    "encoder = OneHotEncoder(sparse_output=False, drop='first')\n",
    "encoded_categorical_data = encoder.fit_transform(dataset_raw_imputed[categorical_columns])\n",
    "\n",
    "dataset_imputed = dataset_raw_imputed.drop(columns=categorical_columns)\n",
    "dataset_imputed = pd.concat([dataset_imputed, pd.DataFrame(encoded_categorical_data)], axis=1)\n",
    "\n",
    "# Initializing the K-NN imputer\n",
    "knn_imputer = KNNImputer(n_neighbors=5)\n",
    "\n",
    "# Applying K-NN imputation for all columns with missing values\n",
    "dataset_imputed[columns_with_missing_values] = knn_imputer.fit_transform(dataset_imputed[columns_with_missing_values])\n",
    "print(\"done\")"
   ]
  },
  {
   "cell_type": "markdown",
   "metadata": {},
   "source": [
    "### Tokenize sentences and lemmatize words"
   ]
  },
  {
   "cell_type": "code",
   "execution_count": 52,
   "metadata": {},
   "outputs": [
    {
     "name": "stdout",
     "output_type": "stream",
     "text": [
      "done\n"
     ]
    },
    {
     "name": "stderr",
     "output_type": "stream",
     "text": [
      "[nltk_data] Downloading package punkt to\n",
      "[nltk_data]     C:\\Users\\u522601\\AppData\\Roaming\\nltk_data...\n",
      "[nltk_data]   Package punkt is already up-to-date!\n",
      "[nltk_data] Downloading package wordnet to\n",
      "[nltk_data]     C:\\Users\\u522601\\AppData\\Roaming\\nltk_data...\n",
      "[nltk_data]   Package wordnet is already up-to-date!\n"
     ]
    }
   ],
   "source": [
    "#### First let us define function that returns tokenized sentences and lemmatized words from the corresponding sentences\n",
    "from nltk.tokenize import sent_tokenize, word_tokenize\n",
    "from nltk.stem import WordNetLemmatizer\n",
    "\n",
    "nltk.download('punkt')\n",
    "nltk.download('wordnet')\n",
    "\n",
    "#Defining function to: 1) tokenize sentences, 2) lemmatize words in sentences\n",
    "def tokenize_and_lemmatize(text):\n",
    "    # Tokenize sentences\n",
    "    sentences = sent_tokenize(text)\n",
    "    \n",
    "    # Tokenize words and lemmatize\n",
    "    lemmatizer = WordNetLemmatizer()\n",
    "    tokenized_sentences = []\n",
    "    lemmatized_words = []\n",
    "    for sentence in sentences:\n",
    "        words = word_tokenize(sentence)\n",
    "        lemmatized_words.extend([lemmatizer.lemmatize(word) for word in words])\n",
    "        tokenized_sentences.append(words)\n",
    "    \n",
    "    return tokenized_sentences, lemmatized_words\n",
    "print(\"done\")"
   ]
  },
  {
   "cell_type": "code",
   "execution_count": 53,
   "metadata": {},
   "outputs": [
    {
     "name": "stderr",
     "output_type": "stream",
     "text": [
      "[nltk_data] Downloading package omw-1.4 to\n",
      "[nltk_data]     C:\\Users\\u522601\\AppData\\Roaming\\nltk_data...\n",
      "[nltk_data]   Package omw-1.4 is already up-to-date!\n"
     ]
    },
    {
     "name": "stdout",
     "output_type": "stream",
     "text": [
      "done\n"
     ]
    }
   ],
   "source": [
    "# dataset_imputed[['Tokenized Sentences', 'Lemmatized Words']] = dataset_imputed['Text'].apply(lambda x: tokenize_and_lemmatize(x))\n",
    "nltk.download('omw-1.4')\n",
    "\n",
    "tokenized_and_lemmatized = dataset_imputed['Text'].apply(lambda x: tokenize_and_lemmatize(x))\n",
    "dataset_imputed[['Tokenized Sentences', 'Lemmatized Words']] = tokenized_and_lemmatized.apply(pd.Series)\n",
    "print(\"done\")"
   ]
  },
  {
   "cell_type": "code",
   "execution_count": 54,
   "metadata": {},
   "outputs": [
    {
     "data": {
      "text/html": [
       "<div>\n",
       "<style scoped>\n",
       "    .dataframe tbody tr th:only-of-type {\n",
       "        vertical-align: middle;\n",
       "    }\n",
       "\n",
       "    .dataframe tbody tr th {\n",
       "        vertical-align: top;\n",
       "    }\n",
       "\n",
       "    .dataframe thead th {\n",
       "        text-align: right;\n",
       "    }\n",
       "</style>\n",
       "<table border=\"1\" class=\"dataframe\">\n",
       "  <thead>\n",
       "    <tr style=\"text-align: right;\">\n",
       "      <th></th>\n",
       "      <th>Subcorpus</th>\n",
       "      <th>Placement test score (%)</th>\n",
       "      <th>Proficiency</th>\n",
       "      <th>Age</th>\n",
       "      <th>L1</th>\n",
       "      <th>Languages spoken at home</th>\n",
       "      <th>Age of exposure to English</th>\n",
       "      <th>Years studying English</th>\n",
       "      <th>Stay abroad in English speaking country (&gt;= 1 month)</th>\n",
       "      <th>Stay abroad (months)</th>\n",
       "      <th>Proficiency (self-assessment) writing</th>\n",
       "      <th>Task number</th>\n",
       "      <th>Task title</th>\n",
       "      <th>Text</th>\n",
       "      <th>Tokenized Sentences</th>\n",
       "      <th>Lemmatized Words</th>\n",
       "    </tr>\n",
       "  </thead>\n",
       "  <tbody>\n",
       "    <tr>\n",
       "      <th>0</th>\n",
       "      <td>Learners</td>\n",
       "      <td>50.0</td>\n",
       "      <td>B1 (lower intermediate)</td>\n",
       "      <td>26.0</td>\n",
       "      <td>German</td>\n",
       "      <td>German</td>\n",
       "      <td>8.0</td>\n",
       "      <td>13.0</td>\n",
       "      <td>No</td>\n",
       "      <td>0.0</td>\n",
       "      <td>B1 (lower intermediate)</td>\n",
       "      <td>13</td>\n",
       "      <td>13. Frog</td>\n",
       "      <td>One day Tommy found a frog in a forest and bro...</td>\n",
       "      <td>[[One, day, Tommy, found, a, frog, in, a, fore...</td>\n",
       "      <td>[One, day, Tommy, found, a, frog, in, a, fores...</td>\n",
       "    </tr>\n",
       "    <tr>\n",
       "      <th>1</th>\n",
       "      <td>Learners</td>\n",
       "      <td>50.0</td>\n",
       "      <td>B1 (lower intermediate)</td>\n",
       "      <td>26.0</td>\n",
       "      <td>German</td>\n",
       "      <td>German</td>\n",
       "      <td>8.0</td>\n",
       "      <td>13.0</td>\n",
       "      <td>No</td>\n",
       "      <td>0.0</td>\n",
       "      <td>B1 (lower intermediate)</td>\n",
       "      <td>13</td>\n",
       "      <td>13. Frog</td>\n",
       "      <td>One day Tommy found a frog in the Forest. He b...</td>\n",
       "      <td>[[One, day, Tommy, found, a, frog, in, the, Fo...</td>\n",
       "      <td>[One, day, Tommy, found, a, frog, in, the, For...</td>\n",
       "    </tr>\n",
       "  </tbody>\n",
       "</table>\n",
       "</div>"
      ],
      "text/plain": [
       "  Subcorpus  Placement test score (%)              Proficiency   Age      L1  \\\n",
       "0  Learners                      50.0  B1 (lower intermediate)  26.0  German   \n",
       "1  Learners                      50.0  B1 (lower intermediate)  26.0  German   \n",
       "\n",
       "  Languages spoken at home  Age of exposure to English  \\\n",
       "0                   German                         8.0   \n",
       "1                   German                         8.0   \n",
       "\n",
       "   Years studying English  \\\n",
       "0                    13.0   \n",
       "1                    13.0   \n",
       "\n",
       "  Stay abroad in English speaking country (>= 1 month)  Stay abroad (months)  \\\n",
       "0                                                 No                     0.0   \n",
       "1                                                 No                     0.0   \n",
       "\n",
       "  Proficiency (self-assessment) writing  Task number Task title  \\\n",
       "0               B1 (lower intermediate)           13   13. Frog   \n",
       "1               B1 (lower intermediate)           13   13. Frog   \n",
       "\n",
       "                                                Text  \\\n",
       "0  One day Tommy found a frog in a forest and bro...   \n",
       "1  One day Tommy found a frog in the Forest. He b...   \n",
       "\n",
       "                                 Tokenized Sentences  \\\n",
       "0  [[One, day, Tommy, found, a, frog, in, a, fore...   \n",
       "1  [[One, day, Tommy, found, a, frog, in, the, Fo...   \n",
       "\n",
       "                                    Lemmatized Words  \n",
       "0  [One, day, Tommy, found, a, frog, in, a, fores...  \n",
       "1  [One, day, Tommy, found, a, frog, in, the, For...  "
      ]
     },
     "execution_count": 54,
     "metadata": {},
     "output_type": "execute_result"
    }
   ],
   "source": [
    "dataset_imputed.head(2)"
   ]
  },
  {
   "cell_type": "markdown",
   "metadata": {},
   "source": [
    "### One Hot Encoding"
   ]
  },
  {
   "cell_type": "code",
   "execution_count": 55,
   "metadata": {},
   "outputs": [
    {
     "name": "stdout",
     "output_type": "stream",
     "text": [
      "done\n"
     ]
    }
   ],
   "source": [
    "from sklearn.preprocessing import OneHotEncoder\n",
    "\n",
    "def encode_categorical_columns(dataframe, categorical_columns):\n",
    "    dataframe_encoded = dataframe.copy()\n",
    "    \n",
    "    categorical_data = dataframe_encoded[categorical_columns]\n",
    "    \n",
    "    encoder = OneHotEncoder(drop='first', sparse_output=False)\n",
    "    \n",
    "    encoded_categorical_data = encoder.fit_transform(categorical_data)\n",
    "    \n",
    "    feature_names = encoder.get_feature_names_out(categorical_columns)\n",
    "    \n",
    "    encoded_dataframe = pd.DataFrame(encoded_categorical_data, columns=feature_names)\n",
    "    \n",
    "\n",
    "    dataframe_encoded.drop(categorical_columns, axis=1, inplace=True)\n",
    "    \n",
    "    dataframe_encoded = pd.concat([dataframe_encoded, encoded_dataframe], axis=1)\n",
    "    \n",
    "    return dataframe_encoded\n",
    "\n",
    "dataframe_encoded = encode_categorical_columns(dataset_imputed, ['L1', 'Stay abroad in English speaking country (>= 1 month)'])\n",
    "print(\"done\")"
   ]
  },
  {
   "cell_type": "code",
   "execution_count": 56,
   "metadata": {},
   "outputs": [
    {
     "data": {
      "text/html": [
       "<div>\n",
       "<style scoped>\n",
       "    .dataframe tbody tr th:only-of-type {\n",
       "        vertical-align: middle;\n",
       "    }\n",
       "\n",
       "    .dataframe tbody tr th {\n",
       "        vertical-align: top;\n",
       "    }\n",
       "\n",
       "    .dataframe thead th {\n",
       "        text-align: right;\n",
       "    }\n",
       "</style>\n",
       "<table border=\"1\" class=\"dataframe\">\n",
       "  <thead>\n",
       "    <tr style=\"text-align: right;\">\n",
       "      <th></th>\n",
       "      <th>Subcorpus</th>\n",
       "      <th>Placement test score (%)</th>\n",
       "      <th>Proficiency</th>\n",
       "      <th>Age</th>\n",
       "      <th>Languages spoken at home</th>\n",
       "      <th>Age of exposure to English</th>\n",
       "      <th>Years studying English</th>\n",
       "      <th>Stay abroad (months)</th>\n",
       "      <th>Proficiency (self-assessment) writing</th>\n",
       "      <th>Task number</th>\n",
       "      <th>Task title</th>\n",
       "      <th>Text</th>\n",
       "      <th>Tokenized Sentences</th>\n",
       "      <th>Lemmatized Words</th>\n",
       "      <th>L1_Spanish</th>\n",
       "      <th>Stay abroad in English speaking country (&gt;= 1 month)_Yes</th>\n",
       "    </tr>\n",
       "  </thead>\n",
       "  <tbody>\n",
       "    <tr>\n",
       "      <th>0</th>\n",
       "      <td>Learners</td>\n",
       "      <td>50.0</td>\n",
       "      <td>B1 (lower intermediate)</td>\n",
       "      <td>26.0</td>\n",
       "      <td>German</td>\n",
       "      <td>8.0</td>\n",
       "      <td>13.0</td>\n",
       "      <td>0.0</td>\n",
       "      <td>B1 (lower intermediate)</td>\n",
       "      <td>13</td>\n",
       "      <td>13. Frog</td>\n",
       "      <td>One day Tommy found a frog in a forest and bro...</td>\n",
       "      <td>[[One, day, Tommy, found, a, frog, in, a, fore...</td>\n",
       "      <td>[One, day, Tommy, found, a, frog, in, a, fores...</td>\n",
       "      <td>0.0</td>\n",
       "      <td>0.0</td>\n",
       "    </tr>\n",
       "    <tr>\n",
       "      <th>1</th>\n",
       "      <td>Learners</td>\n",
       "      <td>50.0</td>\n",
       "      <td>B1 (lower intermediate)</td>\n",
       "      <td>26.0</td>\n",
       "      <td>German</td>\n",
       "      <td>8.0</td>\n",
       "      <td>13.0</td>\n",
       "      <td>0.0</td>\n",
       "      <td>B1 (lower intermediate)</td>\n",
       "      <td>13</td>\n",
       "      <td>13. Frog</td>\n",
       "      <td>One day Tommy found a frog in the Forest. He b...</td>\n",
       "      <td>[[One, day, Tommy, found, a, frog, in, the, Fo...</td>\n",
       "      <td>[One, day, Tommy, found, a, frog, in, the, For...</td>\n",
       "      <td>0.0</td>\n",
       "      <td>0.0</td>\n",
       "    </tr>\n",
       "  </tbody>\n",
       "</table>\n",
       "</div>"
      ],
      "text/plain": [
       "  Subcorpus  Placement test score (%)              Proficiency   Age  \\\n",
       "0  Learners                      50.0  B1 (lower intermediate)  26.0   \n",
       "1  Learners                      50.0  B1 (lower intermediate)  26.0   \n",
       "\n",
       "  Languages spoken at home  Age of exposure to English  \\\n",
       "0                   German                         8.0   \n",
       "1                   German                         8.0   \n",
       "\n",
       "   Years studying English  Stay abroad (months)  \\\n",
       "0                    13.0                   0.0   \n",
       "1                    13.0                   0.0   \n",
       "\n",
       "  Proficiency (self-assessment) writing  Task number Task title  \\\n",
       "0               B1 (lower intermediate)           13   13. Frog   \n",
       "1               B1 (lower intermediate)           13   13. Frog   \n",
       "\n",
       "                                                Text  \\\n",
       "0  One day Tommy found a frog in a forest and bro...   \n",
       "1  One day Tommy found a frog in the Forest. He b...   \n",
       "\n",
       "                                 Tokenized Sentences  \\\n",
       "0  [[One, day, Tommy, found, a, frog, in, a, fore...   \n",
       "1  [[One, day, Tommy, found, a, frog, in, the, Fo...   \n",
       "\n",
       "                                    Lemmatized Words  L1_Spanish  \\\n",
       "0  [One, day, Tommy, found, a, frog, in, a, fores...         0.0   \n",
       "1  [One, day, Tommy, found, a, frog, in, the, For...         0.0   \n",
       "\n",
       "   Stay abroad in English speaking country (>= 1 month)_Yes  \n",
       "0                                                0.0         \n",
       "1                                                0.0         "
      ]
     },
     "execution_count": 56,
     "metadata": {},
     "output_type": "execute_result"
    }
   ],
   "source": [
    "dataframe_encoded.head(2)\n",
    "\n",
    "#.drop(columns= ['Subcorpus', 'Proficiency (self-assessment) writing', 'Task number', 'Task title', 'Text'])"
   ]
  },
  {
   "cell_type": "code",
   "execution_count": 57,
   "metadata": {
    "id": "7YObgylANhEW"
   },
   "outputs": [
    {
     "name": "stderr",
     "output_type": "stream",
     "text": [
      "[nltk_data] Downloading package punkt to\n",
      "[nltk_data]     C:\\Users\\u522601\\AppData\\Roaming\\nltk_data...\n",
      "[nltk_data]   Package punkt is already up-to-date!\n"
     ]
    },
    {
     "name": "stdout",
     "output_type": "stream",
     "text": [
      "0    [One, day, Tommy, found, a, frog, in, a, fores...\n",
      "1    [One, day, Tommy, found, a, frog, in, the, For...\n",
      "2    [One, day, a, little, boy, called, John, uh, w...\n",
      "3    [One, day, ,, there, was, a, boy, called, John...\n",
      "4    [One, day, a, boy, was, sitting, in, his, room...\n",
      "Name: tokenized_text, dtype: object\n"
     ]
    },
    {
     "data": {
      "text/plain": [
       "Index(['Subcorpus', 'Placement test score (%)', 'Proficiency', 'Age',\n",
       "       'Languages spoken at home', 'Age of exposure to English',\n",
       "       'Years studying English', 'Stay abroad (months)',\n",
       "       'Proficiency (self-assessment) writing', 'Task number', 'Task title',\n",
       "       'Text', 'Tokenized Sentences', 'Lemmatized Words', 'L1_Spanish',\n",
       "       'Stay abroad in English speaking country (>= 1 month)_Yes',\n",
       "       'tokenized_text'],\n",
       "      dtype='object')"
      ]
     },
     "execution_count": 57,
     "metadata": {},
     "output_type": "execute_result"
    }
   ],
   "source": [
    "import nltk\n",
    "nltk.download('punkt')\n",
    "\n",
    "lc = dataframe_encoded\n",
    "\n",
    "lc['tokenized_text'] = lc['Text'].apply(nltk.word_tokenize)\n",
    "\n",
    "print(lc['tokenized_text'].head())\n",
    "\n",
    "\n",
    "lc.columns"
   ]
  },
  {
   "cell_type": "markdown",
   "metadata": {
    "id": "_clpC9UsPyIm"
   },
   "source": [
    "From poki code"
   ]
  },
  {
   "cell_type": "code",
   "execution_count": 63,
   "metadata": {
    "id": "zvFta3zVN6Jj"
   },
   "outputs": [
    {
     "ename": "ModuleNotFoundError",
     "evalue": "No module named 'textstat'",
     "output_type": "error",
     "traceback": [
      "\u001b[1;31m---------------------------------------------------------------------------\u001b[0m",
      "\u001b[1;31mModuleNotFoundError\u001b[0m                       Traceback (most recent call last)",
      "Cell \u001b[1;32mIn[63], line 20\u001b[0m\n\u001b[0;32m     16\u001b[0m lc[\u001b[39m'\u001b[39m\u001b[39mpunctuation_count\u001b[39m\u001b[39m'\u001b[39m] \u001b[39m=\u001b[39m lc[\u001b[39m'\u001b[39m\u001b[39mText\u001b[39m\u001b[39m'\u001b[39m]\u001b[39m.\u001b[39mapply(\u001b[39mlambda\u001b[39;00m x: \u001b[39msum\u001b[39m(\u001b[39m1\u001b[39m \u001b[39mfor\u001b[39;00m c \u001b[39min\u001b[39;00m x \u001b[39mif\u001b[39;00m c \u001b[39min\u001b[39;00m string\u001b[39m.\u001b[39mpunctuation))\n\u001b[0;32m     18\u001b[0m \u001b[39m# Gunning Fog Index: Another readability measure based on sentence and word complexity\u001b[39;00m\n\u001b[0;32m     19\u001b[0m \u001b[39m#!pip install textstat\u001b[39;00m\n\u001b[1;32m---> 20\u001b[0m \u001b[39mimport\u001b[39;00m \u001b[39mtextstat\u001b[39;00m\n\u001b[0;32m     21\u001b[0m \u001b[39mfrom\u001b[39;00m \u001b[39mtextstat\u001b[39;00m \u001b[39mimport\u001b[39;00m gunning_fog\n\u001b[0;32m     22\u001b[0m lc[\u001b[39m'\u001b[39m\u001b[39mgunning_fog_index\u001b[39m\u001b[39m'\u001b[39m] \u001b[39m=\u001b[39m lc[\u001b[39m'\u001b[39m\u001b[39mText\u001b[39m\u001b[39m'\u001b[39m]\u001b[39m.\u001b[39mapply(\u001b[39mlambda\u001b[39;00m x: gunning_fog(x))\n",
      "\u001b[1;31mModuleNotFoundError\u001b[0m: No module named 'textstat'"
     ]
    }
   ],
   "source": [
    "# Number of unique words: The count of distinct words in each poem\n",
    "lc['unique_word_count'] = lc['Lemmatized Words'].apply(lambda x: len(set(x)))\n",
    "\n",
    "# Lexical diversity (Type-Token Ratio): Ratio of unique words to total words in a poem\n",
    "lc['lexical_diversity'] = lc['unique_word_count'] / lc['Lemmatized Words'].str.len()\n",
    "\n",
    "# Sentence count: The number of sentences in each poem.\n",
    "from nltk.tokenize import sent_tokenize\n",
    "lc['sentence_count'] = lc['Text'].apply(lambda x: len(sent_tokenize(x)))\n",
    "\n",
    "# Average words per sentence: Total words divided by the number of sentences.\n",
    "lc['avg_words_per_sentence'] = lc['tokenized_text'].str.len() / lc['sentence_count']\n",
    "\n",
    "# Punctuation count: Count of punctuation marks (commas, periods, etc.) in each poem.\n",
    "import string\n",
    "lc['punctuation_count'] = lc['Text'].apply(lambda x: sum(1 for c in x if c in string.punctuation))\n",
    "\n",
    "# Gunning Fog Index: Another readability measure based on sentence and word complexity\n",
    "!pip install textstat\n",
    "import textstat\n",
    "from textstat import gunning_fog\n",
    "lc['gunning_fog_index'] = lc['Text'].apply(lambda x: gunning_fog(x))\n",
    "\n",
    "from nltk.probability import FreqDist\n",
    "nltk.download('averaged_perceptron_tagger')\n",
    "\n",
    "# POS (Part of Speech) Features:\n",
    "def pos_distribution(tokens):\n",
    "    tags = nltk.pos_tag(tokens)\n",
    "    tag_freq = FreqDist(tag for word, tag in tags)\n",
    "    return tag_freq\n",
    "\n",
    "lc['pos_distribution'] = lc['tokenized_text'].apply(pos_distribution)\n",
    "\n",
    "\n",
    "print(\"done\")"
   ]
  },
  {
   "cell_type": "code",
   "execution_count": 31,
   "metadata": {
    "id": "HzAcUAI8PQKs"
   },
   "outputs": [
    {
     "ename": "KeyError",
     "evalue": "\"None of [Index(['unique_word_count', 'lexical_diversity', 'sentence_count',\\n       'avg_words_per_sentence', 'punctuation_count', 'gunning_fog_index',\\n       'pos_distribution'],\\n      dtype='object')] are in the [columns]\"",
     "output_type": "error",
     "traceback": [
      "\u001b[1;31m---------------------------------------------------------------------------\u001b[0m",
      "\u001b[1;31mKeyError\u001b[0m                                  Traceback (most recent call last)",
      "Cell \u001b[1;32mIn[31], line 1\u001b[0m\n\u001b[1;32m----> 1\u001b[0m text_features \u001b[39m=\u001b[39m lc[[\u001b[39m'\u001b[39;49m\u001b[39munique_word_count\u001b[39;49m\u001b[39m'\u001b[39;49m, \u001b[39m'\u001b[39;49m\u001b[39mlexical_diversity\u001b[39;49m\u001b[39m'\u001b[39;49m,\u001b[39m'\u001b[39;49m\u001b[39msentence_count\u001b[39;49m\u001b[39m'\u001b[39;49m,\u001b[39m'\u001b[39;49m\u001b[39mavg_words_per_sentence\u001b[39;49m\u001b[39m'\u001b[39;49m, \u001b[39m'\u001b[39;49m\u001b[39mpunctuation_count\u001b[39;49m\u001b[39m'\u001b[39;49m, \u001b[39m'\u001b[39;49m\u001b[39mgunning_fog_index\u001b[39;49m\u001b[39m'\u001b[39;49m, \u001b[39m'\u001b[39;49m\u001b[39mpos_distribution\u001b[39;49m\u001b[39m'\u001b[39;49m]]\n\u001b[0;32m      2\u001b[0m text_features\u001b[39m.\u001b[39mhead(\u001b[39m2\u001b[39m)\n",
      "File \u001b[1;32mc:\\Anaconda3-2023.03\\lib\\site-packages\\pandas\\core\\frame.py:3813\u001b[0m, in \u001b[0;36mDataFrame.__getitem__\u001b[1;34m(self, key)\u001b[0m\n\u001b[0;32m   3811\u001b[0m     \u001b[39mif\u001b[39;00m is_iterator(key):\n\u001b[0;32m   3812\u001b[0m         key \u001b[39m=\u001b[39m \u001b[39mlist\u001b[39m(key)\n\u001b[1;32m-> 3813\u001b[0m     indexer \u001b[39m=\u001b[39m \u001b[39mself\u001b[39;49m\u001b[39m.\u001b[39;49mcolumns\u001b[39m.\u001b[39;49m_get_indexer_strict(key, \u001b[39m\"\u001b[39;49m\u001b[39mcolumns\u001b[39;49m\u001b[39m\"\u001b[39;49m)[\u001b[39m1\u001b[39m]\n\u001b[0;32m   3815\u001b[0m \u001b[39m# take() does not accept boolean indexers\u001b[39;00m\n\u001b[0;32m   3816\u001b[0m \u001b[39mif\u001b[39;00m \u001b[39mgetattr\u001b[39m(indexer, \u001b[39m\"\u001b[39m\u001b[39mdtype\u001b[39m\u001b[39m\"\u001b[39m, \u001b[39mNone\u001b[39;00m) \u001b[39m==\u001b[39m \u001b[39mbool\u001b[39m:\n",
      "File \u001b[1;32mc:\\Anaconda3-2023.03\\lib\\site-packages\\pandas\\core\\indexes\\base.py:6070\u001b[0m, in \u001b[0;36mIndex._get_indexer_strict\u001b[1;34m(self, key, axis_name)\u001b[0m\n\u001b[0;32m   6067\u001b[0m \u001b[39melse\u001b[39;00m:\n\u001b[0;32m   6068\u001b[0m     keyarr, indexer, new_indexer \u001b[39m=\u001b[39m \u001b[39mself\u001b[39m\u001b[39m.\u001b[39m_reindex_non_unique(keyarr)\n\u001b[1;32m-> 6070\u001b[0m \u001b[39mself\u001b[39;49m\u001b[39m.\u001b[39;49m_raise_if_missing(keyarr, indexer, axis_name)\n\u001b[0;32m   6072\u001b[0m keyarr \u001b[39m=\u001b[39m \u001b[39mself\u001b[39m\u001b[39m.\u001b[39mtake(indexer)\n\u001b[0;32m   6073\u001b[0m \u001b[39mif\u001b[39;00m \u001b[39misinstance\u001b[39m(key, Index):\n\u001b[0;32m   6074\u001b[0m     \u001b[39m# GH 42790 - Preserve name from an Index\u001b[39;00m\n",
      "File \u001b[1;32mc:\\Anaconda3-2023.03\\lib\\site-packages\\pandas\\core\\indexes\\base.py:6130\u001b[0m, in \u001b[0;36mIndex._raise_if_missing\u001b[1;34m(self, key, indexer, axis_name)\u001b[0m\n\u001b[0;32m   6128\u001b[0m     \u001b[39mif\u001b[39;00m use_interval_msg:\n\u001b[0;32m   6129\u001b[0m         key \u001b[39m=\u001b[39m \u001b[39mlist\u001b[39m(key)\n\u001b[1;32m-> 6130\u001b[0m     \u001b[39mraise\u001b[39;00m \u001b[39mKeyError\u001b[39;00m(\u001b[39mf\u001b[39m\u001b[39m\"\u001b[39m\u001b[39mNone of [\u001b[39m\u001b[39m{\u001b[39;00mkey\u001b[39m}\u001b[39;00m\u001b[39m] are in the [\u001b[39m\u001b[39m{\u001b[39;00maxis_name\u001b[39m}\u001b[39;00m\u001b[39m]\u001b[39m\u001b[39m\"\u001b[39m)\n\u001b[0;32m   6132\u001b[0m not_found \u001b[39m=\u001b[39m \u001b[39mlist\u001b[39m(ensure_index(key)[missing_mask\u001b[39m.\u001b[39mnonzero()[\u001b[39m0\u001b[39m]]\u001b[39m.\u001b[39munique())\n\u001b[0;32m   6133\u001b[0m \u001b[39mraise\u001b[39;00m \u001b[39mKeyError\u001b[39;00m(\u001b[39mf\u001b[39m\u001b[39m\"\u001b[39m\u001b[39m{\u001b[39;00mnot_found\u001b[39m}\u001b[39;00m\u001b[39m not in index\u001b[39m\u001b[39m\"\u001b[39m)\n",
      "\u001b[1;31mKeyError\u001b[0m: \"None of [Index(['unique_word_count', 'lexical_diversity', 'sentence_count',\\n       'avg_words_per_sentence', 'punctuation_count', 'gunning_fog_index',\\n       'pos_distribution'],\\n      dtype='object')] are in the [columns]\""
     ]
    }
   ],
   "source": [
    "text_features = lc[['unique_word_count', 'lexical_diversity','sentence_count','avg_words_per_sentence', 'punctuation_count', 'gunning_fog_index', 'pos_distribution']]\n",
    "text_features.head(2)"
   ]
  },
  {
   "cell_type": "code",
   "execution_count": 28,
   "metadata": {
    "id": "pBsHd8zZP_pD"
   },
   "outputs": [],
   "source": [
    "#text_features.describe()"
   ]
  },
  {
   "cell_type": "code",
   "execution_count": 29,
   "metadata": {},
   "outputs": [
    {
     "data": {
      "text/html": [
       "<div>\n",
       "<style scoped>\n",
       "    .dataframe tbody tr th:only-of-type {\n",
       "        vertical-align: middle;\n",
       "    }\n",
       "\n",
       "    .dataframe tbody tr th {\n",
       "        vertical-align: top;\n",
       "    }\n",
       "\n",
       "    .dataframe thead th {\n",
       "        text-align: right;\n",
       "    }\n",
       "</style>\n",
       "<table border=\"1\" class=\"dataframe\">\n",
       "  <thead>\n",
       "    <tr style=\"text-align: right;\">\n",
       "      <th></th>\n",
       "      <th>Proficiency</th>\n",
       "      <th>Age</th>\n",
       "      <th>Age of exposure to English</th>\n",
       "      <th>Years studying English</th>\n",
       "      <th>Stay abroad (months)</th>\n",
       "      <th>L1_Spanish</th>\n",
       "      <th>Stay abroad in English speaking country (&gt;= 1 month)_Yes</th>\n",
       "      <th>unique_word_count</th>\n",
       "      <th>lexical_diversity</th>\n",
       "      <th>sentence_count</th>\n",
       "      <th>avg_words_per_sentence</th>\n",
       "      <th>punctuation_count</th>\n",
       "      <th>gunning_fog_index</th>\n",
       "    </tr>\n",
       "  </thead>\n",
       "  <tbody>\n",
       "    <tr>\n",
       "      <th>0</th>\n",
       "      <td>B1 (lower intermediate)</td>\n",
       "      <td>26.0</td>\n",
       "      <td>8.0</td>\n",
       "      <td>13.0</td>\n",
       "      <td>0.0</td>\n",
       "      <td>0.0</td>\n",
       "      <td>0.0</td>\n",
       "      <td>65</td>\n",
       "      <td>0.524194</td>\n",
       "      <td>1</td>\n",
       "      <td>124.000000</td>\n",
       "      <td>5</td>\n",
       "      <td>48.33</td>\n",
       "    </tr>\n",
       "    <tr>\n",
       "      <th>1</th>\n",
       "      <td>B1 (lower intermediate)</td>\n",
       "      <td>26.0</td>\n",
       "      <td>8.0</td>\n",
       "      <td>13.0</td>\n",
       "      <td>0.0</td>\n",
       "      <td>0.0</td>\n",
       "      <td>0.0</td>\n",
       "      <td>66</td>\n",
       "      <td>0.481752</td>\n",
       "      <td>10</td>\n",
       "      <td>13.700000</td>\n",
       "      <td>15</td>\n",
       "      <td>4.88</td>\n",
       "    </tr>\n",
       "    <tr>\n",
       "      <th>2</th>\n",
       "      <td>B1 (lower intermediate)</td>\n",
       "      <td>19.0</td>\n",
       "      <td>10.0</td>\n",
       "      <td>11.0</td>\n",
       "      <td>0.0</td>\n",
       "      <td>0.0</td>\n",
       "      <td>0.0</td>\n",
       "      <td>80</td>\n",
       "      <td>0.512821</td>\n",
       "      <td>1</td>\n",
       "      <td>156.000000</td>\n",
       "      <td>8</td>\n",
       "      <td>60.41</td>\n",
       "    </tr>\n",
       "    <tr>\n",
       "      <th>3</th>\n",
       "      <td>B1 (lower intermediate)</td>\n",
       "      <td>19.0</td>\n",
       "      <td>10.0</td>\n",
       "      <td>11.0</td>\n",
       "      <td>0.0</td>\n",
       "      <td>0.0</td>\n",
       "      <td>0.0</td>\n",
       "      <td>82</td>\n",
       "      <td>0.554054</td>\n",
       "      <td>12</td>\n",
       "      <td>12.333333</td>\n",
       "      <td>17</td>\n",
       "      <td>5.28</td>\n",
       "    </tr>\n",
       "    <tr>\n",
       "      <th>4</th>\n",
       "      <td>B1 (lower intermediate)</td>\n",
       "      <td>21.0</td>\n",
       "      <td>9.0</td>\n",
       "      <td>12.0</td>\n",
       "      <td>0.0</td>\n",
       "      <td>0.0</td>\n",
       "      <td>0.0</td>\n",
       "      <td>101</td>\n",
       "      <td>0.476415</td>\n",
       "      <td>1</td>\n",
       "      <td>212.000000</td>\n",
       "      <td>20</td>\n",
       "      <td>80.21</td>\n",
       "    </tr>\n",
       "    <tr>\n",
       "      <th>...</th>\n",
       "      <td>...</td>\n",
       "      <td>...</td>\n",
       "      <td>...</td>\n",
       "      <td>...</td>\n",
       "      <td>...</td>\n",
       "      <td>...</td>\n",
       "      <td>...</td>\n",
       "      <td>...</td>\n",
       "      <td>...</td>\n",
       "      <td>...</td>\n",
       "      <td>...</td>\n",
       "      <td>...</td>\n",
       "      <td>...</td>\n",
       "    </tr>\n",
       "    <tr>\n",
       "      <th>1805</th>\n",
       "      <td>C2 (upper advanced)</td>\n",
       "      <td>19.0</td>\n",
       "      <td>4.0</td>\n",
       "      <td>15.0</td>\n",
       "      <td>3.0</td>\n",
       "      <td>1.0</td>\n",
       "      <td>1.0</td>\n",
       "      <td>85</td>\n",
       "      <td>0.408654</td>\n",
       "      <td>1</td>\n",
       "      <td>208.000000</td>\n",
       "      <td>22</td>\n",
       "      <td>75.05</td>\n",
       "    </tr>\n",
       "    <tr>\n",
       "      <th>1806</th>\n",
       "      <td>C2 (upper advanced)</td>\n",
       "      <td>19.0</td>\n",
       "      <td>4.0</td>\n",
       "      <td>15.0</td>\n",
       "      <td>3.0</td>\n",
       "      <td>1.0</td>\n",
       "      <td>1.0</td>\n",
       "      <td>71</td>\n",
       "      <td>0.572581</td>\n",
       "      <td>7</td>\n",
       "      <td>17.714286</td>\n",
       "      <td>12</td>\n",
       "      <td>7.83</td>\n",
       "    </tr>\n",
       "    <tr>\n",
       "      <th>1807</th>\n",
       "      <td>C2 (upper advanced)</td>\n",
       "      <td>24.0</td>\n",
       "      <td>3.0</td>\n",
       "      <td>18.0</td>\n",
       "      <td>11.0</td>\n",
       "      <td>1.0</td>\n",
       "      <td>1.0</td>\n",
       "      <td>163</td>\n",
       "      <td>0.229577</td>\n",
       "      <td>1</td>\n",
       "      <td>710.000000</td>\n",
       "      <td>115</td>\n",
       "      <td>244.33</td>\n",
       "    </tr>\n",
       "    <tr>\n",
       "      <th>1808</th>\n",
       "      <td>C2 (upper advanced)</td>\n",
       "      <td>24.0</td>\n",
       "      <td>3.0</td>\n",
       "      <td>18.0</td>\n",
       "      <td>11.0</td>\n",
       "      <td>1.0</td>\n",
       "      <td>1.0</td>\n",
       "      <td>233</td>\n",
       "      <td>0.373397</td>\n",
       "      <td>30</td>\n",
       "      <td>20.800000</td>\n",
       "      <td>71</td>\n",
       "      <td>7.04</td>\n",
       "    </tr>\n",
       "    <tr>\n",
       "      <th>1809</th>\n",
       "      <td>C2 (upper advanced)</td>\n",
       "      <td>27.0</td>\n",
       "      <td>9.0</td>\n",
       "      <td>13.0</td>\n",
       "      <td>1.5</td>\n",
       "      <td>1.0</td>\n",
       "      <td>1.0</td>\n",
       "      <td>78</td>\n",
       "      <td>0.545455</td>\n",
       "      <td>6</td>\n",
       "      <td>23.833333</td>\n",
       "      <td>15</td>\n",
       "      <td>9.15</td>\n",
       "    </tr>\n",
       "  </tbody>\n",
       "</table>\n",
       "<p>1810 rows × 13 columns</p>\n",
       "</div>"
      ],
      "text/plain": [
       "                  Proficiency   Age  Age of exposure to English  \\\n",
       "0     B1 (lower intermediate)  26.0                         8.0   \n",
       "1     B1 (lower intermediate)  26.0                         8.0   \n",
       "2     B1 (lower intermediate)  19.0                        10.0   \n",
       "3     B1 (lower intermediate)  19.0                        10.0   \n",
       "4     B1 (lower intermediate)  21.0                         9.0   \n",
       "...                       ...   ...                         ...   \n",
       "1805      C2 (upper advanced)  19.0                         4.0   \n",
       "1806      C2 (upper advanced)  19.0                         4.0   \n",
       "1807      C2 (upper advanced)  24.0                         3.0   \n",
       "1808      C2 (upper advanced)  24.0                         3.0   \n",
       "1809      C2 (upper advanced)  27.0                         9.0   \n",
       "\n",
       "      Years studying English  Stay abroad (months)  L1_Spanish  \\\n",
       "0                       13.0                   0.0         0.0   \n",
       "1                       13.0                   0.0         0.0   \n",
       "2                       11.0                   0.0         0.0   \n",
       "3                       11.0                   0.0         0.0   \n",
       "4                       12.0                   0.0         0.0   \n",
       "...                      ...                   ...         ...   \n",
       "1805                    15.0                   3.0         1.0   \n",
       "1806                    15.0                   3.0         1.0   \n",
       "1807                    18.0                  11.0         1.0   \n",
       "1808                    18.0                  11.0         1.0   \n",
       "1809                    13.0                   1.5         1.0   \n",
       "\n",
       "      Stay abroad in English speaking country (>= 1 month)_Yes  \\\n",
       "0                                                   0.0          \n",
       "1                                                   0.0          \n",
       "2                                                   0.0          \n",
       "3                                                   0.0          \n",
       "4                                                   0.0          \n",
       "...                                                 ...          \n",
       "1805                                                1.0          \n",
       "1806                                                1.0          \n",
       "1807                                                1.0          \n",
       "1808                                                1.0          \n",
       "1809                                                1.0          \n",
       "\n",
       "      unique_word_count  lexical_diversity  sentence_count  \\\n",
       "0                    65           0.524194               1   \n",
       "1                    66           0.481752              10   \n",
       "2                    80           0.512821               1   \n",
       "3                    82           0.554054              12   \n",
       "4                   101           0.476415               1   \n",
       "...                 ...                ...             ...   \n",
       "1805                 85           0.408654               1   \n",
       "1806                 71           0.572581               7   \n",
       "1807                163           0.229577               1   \n",
       "1808                233           0.373397              30   \n",
       "1809                 78           0.545455               6   \n",
       "\n",
       "      avg_words_per_sentence  punctuation_count  gunning_fog_index  \n",
       "0                 124.000000                  5              48.33  \n",
       "1                  13.700000                 15               4.88  \n",
       "2                 156.000000                  8              60.41  \n",
       "3                  12.333333                 17               5.28  \n",
       "4                 212.000000                 20              80.21  \n",
       "...                      ...                ...                ...  \n",
       "1805              208.000000                 22              75.05  \n",
       "1806               17.714286                 12               7.83  \n",
       "1807              710.000000                115             244.33  \n",
       "1808               20.800000                 71               7.04  \n",
       "1809               23.833333                 15               9.15  \n",
       "\n",
       "[1810 rows x 13 columns]"
      ]
     },
     "execution_count": 29,
     "metadata": {},
     "output_type": "execute_result"
    }
   ],
   "source": [
    "# Dropping the columns we do not need anymore (including pos tags), so it is usable for the machine learning algorithms\n",
    "\n",
    "workable_data = lc.drop(columns= ['Subcorpus', 'Languages spoken at home', 'Proficiency (self-assessment) writing', 'Task number', 'Task title', 'Text', 'Tokenized Sentences', 'Lemmatized Words', 'tokenized_text', 'pos_distribution', 'Placement test score (%)'])\n",
    "workable_data"
   ]
  },
  {
   "cell_type": "code",
   "execution_count": 30,
   "metadata": {},
   "outputs": [
    {
     "data": {
      "text/html": [
       "<div>\n",
       "<style scoped>\n",
       "    .dataframe tbody tr th:only-of-type {\n",
       "        vertical-align: middle;\n",
       "    }\n",
       "\n",
       "    .dataframe tbody tr th {\n",
       "        vertical-align: top;\n",
       "    }\n",
       "\n",
       "    .dataframe thead th {\n",
       "        text-align: right;\n",
       "    }\n",
       "</style>\n",
       "<table border=\"1\" class=\"dataframe\">\n",
       "  <thead>\n",
       "    <tr style=\"text-align: right;\">\n",
       "      <th></th>\n",
       "      <th>Proficiency</th>\n",
       "      <th>Age</th>\n",
       "      <th>Age of exposure to English</th>\n",
       "      <th>Years studying English</th>\n",
       "      <th>Stay abroad (months)</th>\n",
       "      <th>L1_Spanish</th>\n",
       "      <th>Stay abroad in English speaking country (&gt;= 1 month)_Yes</th>\n",
       "      <th>unique_word_count</th>\n",
       "      <th>lexical_diversity</th>\n",
       "      <th>sentence_count</th>\n",
       "      <th>avg_words_per_sentence</th>\n",
       "      <th>punctuation_count</th>\n",
       "      <th>gunning_fog_index</th>\n",
       "    </tr>\n",
       "  </thead>\n",
       "  <tbody>\n",
       "    <tr>\n",
       "      <th>0</th>\n",
       "      <td>2</td>\n",
       "      <td>26.0</td>\n",
       "      <td>8.0</td>\n",
       "      <td>13.0</td>\n",
       "      <td>0.0</td>\n",
       "      <td>0.0</td>\n",
       "      <td>0.0</td>\n",
       "      <td>65</td>\n",
       "      <td>0.524194</td>\n",
       "      <td>1</td>\n",
       "      <td>124.000000</td>\n",
       "      <td>5</td>\n",
       "      <td>48.33</td>\n",
       "    </tr>\n",
       "    <tr>\n",
       "      <th>1</th>\n",
       "      <td>2</td>\n",
       "      <td>26.0</td>\n",
       "      <td>8.0</td>\n",
       "      <td>13.0</td>\n",
       "      <td>0.0</td>\n",
       "      <td>0.0</td>\n",
       "      <td>0.0</td>\n",
       "      <td>66</td>\n",
       "      <td>0.481752</td>\n",
       "      <td>10</td>\n",
       "      <td>13.700000</td>\n",
       "      <td>15</td>\n",
       "      <td>4.88</td>\n",
       "    </tr>\n",
       "    <tr>\n",
       "      <th>2</th>\n",
       "      <td>2</td>\n",
       "      <td>19.0</td>\n",
       "      <td>10.0</td>\n",
       "      <td>11.0</td>\n",
       "      <td>0.0</td>\n",
       "      <td>0.0</td>\n",
       "      <td>0.0</td>\n",
       "      <td>80</td>\n",
       "      <td>0.512821</td>\n",
       "      <td>1</td>\n",
       "      <td>156.000000</td>\n",
       "      <td>8</td>\n",
       "      <td>60.41</td>\n",
       "    </tr>\n",
       "    <tr>\n",
       "      <th>3</th>\n",
       "      <td>2</td>\n",
       "      <td>19.0</td>\n",
       "      <td>10.0</td>\n",
       "      <td>11.0</td>\n",
       "      <td>0.0</td>\n",
       "      <td>0.0</td>\n",
       "      <td>0.0</td>\n",
       "      <td>82</td>\n",
       "      <td>0.554054</td>\n",
       "      <td>12</td>\n",
       "      <td>12.333333</td>\n",
       "      <td>17</td>\n",
       "      <td>5.28</td>\n",
       "    </tr>\n",
       "    <tr>\n",
       "      <th>4</th>\n",
       "      <td>2</td>\n",
       "      <td>21.0</td>\n",
       "      <td>9.0</td>\n",
       "      <td>12.0</td>\n",
       "      <td>0.0</td>\n",
       "      <td>0.0</td>\n",
       "      <td>0.0</td>\n",
       "      <td>101</td>\n",
       "      <td>0.476415</td>\n",
       "      <td>1</td>\n",
       "      <td>212.000000</td>\n",
       "      <td>20</td>\n",
       "      <td>80.21</td>\n",
       "    </tr>\n",
       "    <tr>\n",
       "      <th>...</th>\n",
       "      <td>...</td>\n",
       "      <td>...</td>\n",
       "      <td>...</td>\n",
       "      <td>...</td>\n",
       "      <td>...</td>\n",
       "      <td>...</td>\n",
       "      <td>...</td>\n",
       "      <td>...</td>\n",
       "      <td>...</td>\n",
       "      <td>...</td>\n",
       "      <td>...</td>\n",
       "      <td>...</td>\n",
       "      <td>...</td>\n",
       "    </tr>\n",
       "    <tr>\n",
       "      <th>1805</th>\n",
       "      <td>5</td>\n",
       "      <td>19.0</td>\n",
       "      <td>4.0</td>\n",
       "      <td>15.0</td>\n",
       "      <td>3.0</td>\n",
       "      <td>1.0</td>\n",
       "      <td>1.0</td>\n",
       "      <td>85</td>\n",
       "      <td>0.408654</td>\n",
       "      <td>1</td>\n",
       "      <td>208.000000</td>\n",
       "      <td>22</td>\n",
       "      <td>75.05</td>\n",
       "    </tr>\n",
       "    <tr>\n",
       "      <th>1806</th>\n",
       "      <td>5</td>\n",
       "      <td>19.0</td>\n",
       "      <td>4.0</td>\n",
       "      <td>15.0</td>\n",
       "      <td>3.0</td>\n",
       "      <td>1.0</td>\n",
       "      <td>1.0</td>\n",
       "      <td>71</td>\n",
       "      <td>0.572581</td>\n",
       "      <td>7</td>\n",
       "      <td>17.714286</td>\n",
       "      <td>12</td>\n",
       "      <td>7.83</td>\n",
       "    </tr>\n",
       "    <tr>\n",
       "      <th>1807</th>\n",
       "      <td>5</td>\n",
       "      <td>24.0</td>\n",
       "      <td>3.0</td>\n",
       "      <td>18.0</td>\n",
       "      <td>11.0</td>\n",
       "      <td>1.0</td>\n",
       "      <td>1.0</td>\n",
       "      <td>163</td>\n",
       "      <td>0.229577</td>\n",
       "      <td>1</td>\n",
       "      <td>710.000000</td>\n",
       "      <td>115</td>\n",
       "      <td>244.33</td>\n",
       "    </tr>\n",
       "    <tr>\n",
       "      <th>1808</th>\n",
       "      <td>5</td>\n",
       "      <td>24.0</td>\n",
       "      <td>3.0</td>\n",
       "      <td>18.0</td>\n",
       "      <td>11.0</td>\n",
       "      <td>1.0</td>\n",
       "      <td>1.0</td>\n",
       "      <td>233</td>\n",
       "      <td>0.373397</td>\n",
       "      <td>30</td>\n",
       "      <td>20.800000</td>\n",
       "      <td>71</td>\n",
       "      <td>7.04</td>\n",
       "    </tr>\n",
       "    <tr>\n",
       "      <th>1809</th>\n",
       "      <td>5</td>\n",
       "      <td>27.0</td>\n",
       "      <td>9.0</td>\n",
       "      <td>13.0</td>\n",
       "      <td>1.5</td>\n",
       "      <td>1.0</td>\n",
       "      <td>1.0</td>\n",
       "      <td>78</td>\n",
       "      <td>0.545455</td>\n",
       "      <td>6</td>\n",
       "      <td>23.833333</td>\n",
       "      <td>15</td>\n",
       "      <td>9.15</td>\n",
       "    </tr>\n",
       "  </tbody>\n",
       "</table>\n",
       "<p>1810 rows × 13 columns</p>\n",
       "</div>"
      ],
      "text/plain": [
       "      Proficiency   Age  Age of exposure to English  Years studying English  \\\n",
       "0               2  26.0                         8.0                    13.0   \n",
       "1               2  26.0                         8.0                    13.0   \n",
       "2               2  19.0                        10.0                    11.0   \n",
       "3               2  19.0                        10.0                    11.0   \n",
       "4               2  21.0                         9.0                    12.0   \n",
       "...           ...   ...                         ...                     ...   \n",
       "1805            5  19.0                         4.0                    15.0   \n",
       "1806            5  19.0                         4.0                    15.0   \n",
       "1807            5  24.0                         3.0                    18.0   \n",
       "1808            5  24.0                         3.0                    18.0   \n",
       "1809            5  27.0                         9.0                    13.0   \n",
       "\n",
       "      Stay abroad (months)  L1_Spanish  \\\n",
       "0                      0.0         0.0   \n",
       "1                      0.0         0.0   \n",
       "2                      0.0         0.0   \n",
       "3                      0.0         0.0   \n",
       "4                      0.0         0.0   \n",
       "...                    ...         ...   \n",
       "1805                   3.0         1.0   \n",
       "1806                   3.0         1.0   \n",
       "1807                  11.0         1.0   \n",
       "1808                  11.0         1.0   \n",
       "1809                   1.5         1.0   \n",
       "\n",
       "      Stay abroad in English speaking country (>= 1 month)_Yes  \\\n",
       "0                                                   0.0          \n",
       "1                                                   0.0          \n",
       "2                                                   0.0          \n",
       "3                                                   0.0          \n",
       "4                                                   0.0          \n",
       "...                                                 ...          \n",
       "1805                                                1.0          \n",
       "1806                                                1.0          \n",
       "1807                                                1.0          \n",
       "1808                                                1.0          \n",
       "1809                                                1.0          \n",
       "\n",
       "      unique_word_count  lexical_diversity  sentence_count  \\\n",
       "0                    65           0.524194               1   \n",
       "1                    66           0.481752              10   \n",
       "2                    80           0.512821               1   \n",
       "3                    82           0.554054              12   \n",
       "4                   101           0.476415               1   \n",
       "...                 ...                ...             ...   \n",
       "1805                 85           0.408654               1   \n",
       "1806                 71           0.572581               7   \n",
       "1807                163           0.229577               1   \n",
       "1808                233           0.373397              30   \n",
       "1809                 78           0.545455               6   \n",
       "\n",
       "      avg_words_per_sentence  punctuation_count  gunning_fog_index  \n",
       "0                 124.000000                  5              48.33  \n",
       "1                  13.700000                 15               4.88  \n",
       "2                 156.000000                  8              60.41  \n",
       "3                  12.333333                 17               5.28  \n",
       "4                 212.000000                 20              80.21  \n",
       "...                      ...                ...                ...  \n",
       "1805              208.000000                 22              75.05  \n",
       "1806               17.714286                 12               7.83  \n",
       "1807              710.000000                115             244.33  \n",
       "1808               20.800000                 71               7.04  \n",
       "1809               23.833333                 15               9.15  \n",
       "\n",
       "[1810 rows x 13 columns]"
      ]
     },
     "execution_count": 30,
     "metadata": {},
     "output_type": "execute_result"
    }
   ],
   "source": [
    "from sklearn.preprocessing import LabelEncoder\n",
    "\n",
    "# encoding the proficiency column, so we can use it as a target variable\n",
    "label_encoder = LabelEncoder()\n",
    "workable_data['Proficiency'] = label_encoder.fit_transform(workable_data['Proficiency'])\n",
    "\n",
    "# scaling of the data is not necessary, because the used algorithms are not sensitive to that\n",
    "\n",
    "workable_data"
   ]
  },
  {
   "cell_type": "code",
   "execution_count": 31,
   "metadata": {},
   "outputs": [
    {
     "data": {
      "image/png": "[encoded data removed]",
      "text/plain": [
       "<Figure size 640x480 with 1 Axes>"
      ]
     },
     "metadata": {},
     "output_type": "display_data"
    }
   ],
   "source": [
    "# Getting X and y\n",
    "X = workable_data.drop('Proficiency', axis=1)\n",
    "y = workable_data['Proficiency']\n",
    "\n",
    "import matplotlib.pyplot as plt\n",
    "%matplotlib inline\n",
    "\n",
    "# Plotting the target variable Proficiency\n",
    "plt.style.use(\"ggplot\")\n",
    "plt.hist(x=y, bins=5)\n",
    "plt.xlabel(\"Proficiency\")\n",
    "plt.ylabel(\"Instances\")\n",
    "plt.show()"
   ]
  },
  {
   "cell_type": "code",
   "execution_count": 40,
   "metadata": {},
   "outputs": [
    {
     "name": "stdout",
     "output_type": "stream",
     "text": [
      "Results for the model Decision Tree: \n",
      "\n",
      "Best parameter: {'max_depth': 6}\n",
      "Best cross_validation score: 0.41\n",
      "done\n"
     ]
    }
   ],
   "source": [
    "# Looking at the algorithm DecisionTreeClassifier\n",
    "\n",
    "from sklearn.model_selection import cross_val_score\n",
    "from sklearn.model_selection import GridSearchCV\n",
    "\n",
    "from sklearn.model_selection import train_test_split\n",
    "from sklearn.tree import DecisionTreeClassifier\n",
    "\n",
    "\n",
    "# Dividing the data in a train and a test set\n",
    "X_train, X_test, y_train, y_test = train_test_split(X, y, random_state=0, test_size=0.1)\n",
    "\n",
    "\n",
    "# Defining the algorithm\n",
    "tree = DecisionTreeClassifier(random_state=0)\n",
    "param_grid_tree = {\"max_depth\": [4, 6, 8]}\n",
    "\n",
    "\n",
    "grid_search_tree = GridSearchCV(tree, param_grid_tree, cv=5)\n",
    "grid_search_tree.fit(X_train, y_train)\n",
    "\n",
    "\n",
    "print(\"Results for the model Decision Tree: \\n\")\n",
    "print(\"Best parameter: {}\".format(grid_search_tree.best_params_))\n",
    "print(\"Best cross_validation score: {:.2f}\".format(grid_search_tree.best_score_))\n",
    "print(\"done\")"
   ]
  },
  {
   "cell_type": "code",
   "execution_count": 41,
   "metadata": {
    "id": "KvSkK1kiaKrP"
   },
   "outputs": [
    {
     "name": "stdout",
     "output_type": "stream",
     "text": [
      "Results for the model Decision Tree: \n",
      " \n",
      "Accuracy on train set: 0.5297728667894414\n",
      "Accuracy on test set: 0.39226519337016574\n",
      "--------------------------------\n",
      "precision on train set: 0.59\n",
      "precision on test set: 0.41\n",
      "--------------------------------\n",
      "recall on train set: 0.51\n",
      "recall on test set: 0.36\n",
      "--------------------------------\n",
      "f1-score on train set: 0.53\n",
      "f1-score on test set: 0.36\n",
      "--------------------------------\n",
      "Confusion matrix on train set: \n",
      "[[122  38  23  22   0   1]\n",
      " [ 26 160  30  47   0   0]\n",
      " [  5  40  78 142  14   3]\n",
      " [  0   9  15 247  80  11]\n",
      " [  0   2   8 118 193  19]\n",
      " [  0   0   1  24  88  63]]\n",
      "--------------------------------\n",
      "Confusion matrix on test set: \n",
      "[[11  7  4  3  0  0]\n",
      " [ 2 12  7 10  1  0]\n",
      " [ 0  8  5 21  0  1]\n",
      " [ 0  3  2 19  9  3]\n",
      " [ 0  0  2 11 23  3]\n",
      " [ 0  1  0  2 10  1]]\n"
     ]
    }
   ],
   "source": [
    "from sklearn.metrics import multilabel_confusion_matrix\n",
    "from sklearn.metrics import confusion_matrix\n",
    "from sklearn.metrics import f1_score\n",
    "from sklearn.metrics import precision_score\n",
    "from sklearn.metrics import recall_score\n",
    "\n",
    "print(\"Results for the model Decision Tree: \\n \")\n",
    "\n",
    "# Calculating the accuracy on both the training and test set\n",
    "print(\"Accuracy on train set: {}\".format(grid_search_tree.score(X_train, y_train)))\n",
    "print(\"Accuracy on test set: {}\".format(grid_search_tree.score(X_test, y_test)))\n",
    "print(\"--------------------------------\")\n",
    "\n",
    "\n",
    "# Setting up for the confusion matrix/precision/f1-score\n",
    "pred_grid_search_train = grid_search_tree.predict(X_train)\n",
    "pred_grid_search_test = grid_search_tree.predict(X_test)\n",
    "\n",
    "# Calculating precision\n",
    "print(\"precision on train set: {:.2f}\".format(precision_score(y_train, pred_grid_search_train, average='macro', zero_division=1)))\n",
    "print(\"precision on test set: {:.2f}\".format(precision_score(y_test, pred_grid_search_test, average='macro', zero_division=1)))\n",
    "print(\"--------------------------------\")\n",
    "\n",
    "# Calculating recall\n",
    "print(\"recall on train set: {:.2f}\".format(recall_score(y_train, pred_grid_search_train, average='macro', zero_division=1)))\n",
    "print(\"recall on test set: {:.2f}\".format(recall_score(y_test, pred_grid_search_test, average='macro', zero_division=1)))\n",
    "print(\"--------------------------------\")\n",
    "\n",
    "# Calculating the f1-score\n",
    "print(\"f1-score on train set: {:.2f}\".format(f1_score(y_train, pred_grid_search_train, average=\"macro\", zero_division=1)))\n",
    "print(\"f1-score on test set: {:.2f}\".format(f1_score(y_test, pred_grid_search_test, average=\"macro\", zero_division=1)))\n",
    "print(\"--------------------------------\")\n",
    "\n",
    "confusion_train = confusion_matrix(y_train, pred_grid_search_train)\n",
    "confusion_test = confusion_matrix(y_test, pred_grid_search_test)\n",
    "\n",
    "# Showing the confusion matrices\n",
    "print(\"Confusion matrix on train set: \\n{}\".format(confusion_train))\n",
    "print(\"--------------------------------\")\n",
    "print(\"Confusion matrix on test set: \\n{}\".format(confusion_test))"
   ]
  },
  {
   "cell_type": "code",
   "execution_count": 34,
   "metadata": {},
   "outputs": [
    {
     "name": "stdout",
     "output_type": "stream",
     "text": [
      "Requirement already satisfied: xgboost in c:\\users\\michelle\\documents\\anaconda\\lib\\site-packages (1.7.5)\n",
      "Requirement already satisfied: numpy in c:\\users\\michelle\\documents\\anaconda\\lib\\site-packages (from xgboost) (1.23.5)\n",
      "Requirement already satisfied: scipy in c:\\users\\michelle\\documents\\anaconda\\lib\\site-packages (from xgboost) (1.10.0)\n",
      "done\n"
     ]
    }
   ],
   "source": [
    "!pip install xgboost\n",
    "import xgboost as xgb\n",
    "print(\"done\")"
   ]
  },
  {
   "cell_type": "code",
   "execution_count": 42,
   "metadata": {},
   "outputs": [
    {
     "name": "stdout",
     "output_type": "stream",
     "text": [
      "Results for the model xgboost: \n",
      "\n",
      "Best parameter: {'learning_rate': 0.1, 'max_depth': 4, 'n_estimators': 20, 'objective': 'multi:softmax', 'subsample': 0.6}\n",
      "Best cross_validation score: 0.45\n"
     ]
    }
   ],
   "source": [
    "# Looking at the xgboost algorithm \n",
    "\n",
    "xgboost = xgb.XGBClassifier(objective='binary:logistic', max_depth=3, learning_rate=0.1, n_estimators=100)\n",
    "param_grid_xgboost = {\"objective\": [\"multi:softmax\"], \"max_depth\": [4], \"learning_rate\": [0.1], \"n_estimators\": [20], \"subsample\": [0.6]}\n",
    "# The above parameters were the best for GridSearchCV. Just kept the best ones to make the notebook run faster\n",
    "\n",
    "grid_search_xgboost = GridSearchCV(xgboost, param_grid_xgboost, cv=5)\n",
    "grid_search_xgboost.fit(X_train, y_train)\n",
    "\n",
    "\n",
    "print(\"Results for the model xgboost: \\n\")\n",
    "print(\"Best parameter: {}\".format(grid_search_xgboost.best_params_))\n",
    "print(\"Best cross_validation score: {:.2f}\".format(grid_search_xgboost.best_score_))"
   ]
  },
  {
   "cell_type": "code",
   "execution_count": 43,
   "metadata": {},
   "outputs": [
    {
     "name": "stdout",
     "output_type": "stream",
     "text": [
      "Results for the model xgboost: \n",
      "\n",
      "Accuracy on train set: 0.6083486801718846\n",
      "Accuracy on test set: 0.4861878453038674\n",
      "--------------------------------\n",
      "precision on train set: 0.66\n",
      "precision on test set: 0.53\n",
      "--------------------------------\n",
      "recall on train set: 0.60\n",
      "recall on test set: 0.47\n",
      "--------------------------------\n",
      "f1-score on train set: 0.62\n",
      "f1-score on test set: 0.48\n",
      "--------------------------------\n",
      "Confusion matrix on train set: \n",
      "[[145  26  14  20   1   0]\n",
      " [ 27 178  25  32   1   0]\n",
      " [ 10  44 112 100  12   4]\n",
      " [  0   7  18 249  81   7]\n",
      " [  1   0  11  94 218  16]\n",
      " [  0   0   3  20  64  89]]\n",
      "--------------------------------\n",
      "Confusion matrix on test set: \n",
      "[[15  5  3  2  0  0]\n",
      " [ 4 12  5 10  1  0]\n",
      " [ 0  8 13 13  0  1]\n",
      " [ 1  3  2 20 10  0]\n",
      " [ 0  1  0 12 24  2]\n",
      " [ 0  0  0  3  7  4]]\n"
     ]
    }
   ],
   "source": [
    "print(\"Results for the model xgboost: \\n\")\n",
    "\n",
    "# Calculating the accuracy on both the training and test set\n",
    "print(\"Accuracy on train set: {}\".format(grid_search_xgboost.score(X_train, y_train)))\n",
    "print(\"Accuracy on test set: {}\".format(grid_search_xgboost.score(X_test, y_test)))\n",
    "print(\"--------------------------------\")\n",
    "\n",
    "\n",
    "# Setting up for the confusion matrix/precision/recall\n",
    "pred_grid_search_train = grid_search_xgboost.predict(X_train)\n",
    "pred_grid_search_test = grid_search_xgboost.predict(X_test)\n",
    "\n",
    "# Calculating precision\n",
    "print(\"precision on train set: {:.2f}\".format(precision_score(y_train, pred_grid_search_train, average='macro', zero_division=1)))\n",
    "print(\"precision on test set: {:.2f}\".format(precision_score(y_test, pred_grid_search_test, average='macro', zero_division=1)))\n",
    "print(\"--------------------------------\")\n",
    "  \n",
    "# Calculating recall\n",
    "print(\"recall on train set: {:.2f}\".format(recall_score(y_train, pred_grid_search_train, average='macro', zero_division=1)))\n",
    "print(\"recall on test set: {:.2f}\".format(recall_score(y_test, pred_grid_search_test, average='macro', zero_division=1)))\n",
    "print(\"--------------------------------\")    \n",
    "    \n",
    "# Calculating the f1-score\n",
    "print(\"f1-score on train set: {:.2f}\".format(f1_score(y_train, pred_grid_search_train, average=\"macro\", zero_division=1)))\n",
    "print(\"f1-score on test set: {:.2f}\".format(f1_score(y_test, pred_grid_search_test, average=\"macro\", zero_division=1)))\n",
    "print(\"--------------------------------\")\n",
    "\n",
    "confusion_train = confusion_matrix(y_train, pred_grid_search_train)\n",
    "confusion_test = confusion_matrix(y_test, pred_grid_search_test)\n",
    "\n",
    "# Showing the confusion matrices\n",
    "print(\"Confusion matrix on train set: \\n{}\".format(confusion_train))\n",
    "print(\"--------------------------------\")\n",
    "print(\"Confusion matrix on test set: \\n{}\".format(confusion_test))"
   ]
  },
  {
   "cell_type": "code",
   "execution_count": 46,
   "metadata": {},
   "outputs": [
    {
     "data": {
      "text/plain": [
       "Text(0.5, 0, 'Feature importance')"
      ]
     },
     "execution_count": 46,
     "metadata": {},
     "output_type": "execute_result"
    },
    {
     "data": {
      "image/png": "[encoded data removed]",
      "text/plain": [
       "<Figure size 640x480 with 1 Axes>"
      ]
     },
     "metadata": {},
     "output_type": "display_data"
    }
   ],
   "source": [
    "#Using the best parameters I found in GridSearchCV \n",
    "#and fitting the classifiers to show the feature importances\n",
    "import numpy as np\n",
    "xgboost_best_parameter = xgb.XGBClassifier(objective='multi:softmax', max_depth=4, learning_rate=0.1, n_estimators=20, subsample=0.6)\n",
    "xgboost_best_parameter.fit(X_train, y_train)\n",
    "\n",
    "\n",
    "#Making the function\n",
    "def plot_feature_importances(classifier):\n",
    "    n_features = X_train.shape[1]\n",
    "    plt.barh(range(n_features), classifier.feature_importances_, align=\"center\")\n",
    "    plt.yticks(np.arange(n_features), X_train.columns)\n",
    "    plt.title(\"Bar chart feature importance\")\n",
    "    plt.xlabel(\"Feature importance\")\n",
    "    plt.ylabel(\"Feature\")\n",
    "    plt.ylim(-1, n_features)\n",
    "\n",
    "#Making the bar plots\n",
    "plot_feature_importances(tree_best_parameter)\n",
    "plt.xlabel(\"Feature importance\")"
   ]
  },
  {
   "cell_type": "code",
   "execution_count": null,
   "metadata": {},
   "outputs": [],
   "source": []
  }
 ],
 "metadata": {
  "colab": {
   "provenance": []
  },
  "kernelspec": {
   "display_name": "Python 3 (ipykernel)",
   "language": "python",
   "name": "python3"
  },
  "language_info": {
   "codemirror_mode": {
    "name": "ipython",
    "version": 3
   },
   "file_extension": ".py",
   "mimetype": "text/x-python",
   "name": "python",
   "nbconvert_exporter": "python",
   "pygments_lexer": "ipython3",
   "version": "3.8.10"
  }
 },
 "nbformat": 4,
 "nbformat_minor": 1
}
